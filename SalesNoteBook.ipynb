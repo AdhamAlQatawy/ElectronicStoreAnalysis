{
 "cells": [
  {
   "cell_type": "markdown",
   "source": [
    "# Analysing Sales Dataset\r\n",
    "### This dataset is about an electronics store's purchases in 2019. \r\n",
    "### it contains: \r\n",
    "- Order ID (The order unique id)\r\n",
    "- Product (The product purchased)\r\n",
    "- Quantity Ordered (The product quantity)\r\n",
    "- Price Each (Price for each item)\r\n",
    "- Order Date (The order date)\r\n",
    "- Purchase Address (The address of the order)\r\n",
    "\r\n",
    "### In this project, I will answer the following questions:\r\n",
    "- What month has the largest sales\r\n",
    "- What day has the most sales\r\n",
    "- What weekday has the most orders\r\n",
    "- What Price Range do people tend to buy more\r\n",
    "- Which State, City, and Product has the largest orders?  \r\n",
    "- What is the most and the least profitable product\r\n"
   ],
   "metadata": {}
  },
  {
   "cell_type": "markdown",
   "source": [
    "# Gathering"
   ],
   "metadata": {}
  },
  {
   "cell_type": "code",
   "execution_count": 92,
   "source": [
    "# Importing libraries\r\n",
    "import pandas as pd \r\n",
    "import numpy as np\r\n",
    "import seaborn as sb \r\n",
    "import matplotlib.pyplot as plt\r\n",
    "import plotly.express as px\r\n",
    "import os "
   ],
   "outputs": [],
   "metadata": {}
  },
  {
   "cell_type": "code",
   "execution_count": 5,
   "source": [
    "# Getting the path of the folder\r\n",
    "pwd = os.getcwd()"
   ],
   "outputs": [],
   "metadata": {}
  },
  {
   "cell_type": "code",
   "execution_count": 6,
   "source": [
    "# Making a list of the files names\r\n",
    "files = ['\\Sales_January_2019.csv','\\Sales_February_2019.csv','\\Sales_March_2019.csv','\\Sales_April_2019.csv','\\Sales_May_2019.csv','\\Sales_June_2019.csv','\\Sales_July_2019.csv','\\Sales_August_2019.csv',\r\n",
    " '\\Sales_September_2019.csv', '\\Sales_October_2019.csv', '\\Sales_November_2019.csv','\\Sales_December_2019.csv']\r\n",
    "\r\n",
    "# create empty list to store the data in \r\n",
    "Each_month = []\r\n",
    "# append datasets into the list\r\n",
    "for i in range(len(files)):\r\n",
    "    Each_month.append(pd.read_csv(pwd+\"\\Data\"+files[i]))\r\n"
   ],
   "outputs": [],
   "metadata": {}
  },
  {
   "cell_type": "code",
   "execution_count": 7,
   "source": [
    "Each_month[0]\r\n"
   ],
   "outputs": [
    {
     "output_type": "execute_result",
     "data": {
      "text/html": [
       "<div>\n",
       "<style scoped>\n",
       "    .dataframe tbody tr th:only-of-type {\n",
       "        vertical-align: middle;\n",
       "    }\n",
       "\n",
       "    .dataframe tbody tr th {\n",
       "        vertical-align: top;\n",
       "    }\n",
       "\n",
       "    .dataframe thead th {\n",
       "        text-align: right;\n",
       "    }\n",
       "</style>\n",
       "<table border=\"1\" class=\"dataframe\">\n",
       "  <thead>\n",
       "    <tr style=\"text-align: right;\">\n",
       "      <th></th>\n",
       "      <th>Order ID</th>\n",
       "      <th>Product</th>\n",
       "      <th>Quantity Ordered</th>\n",
       "      <th>Price Each</th>\n",
       "      <th>Order Date</th>\n",
       "      <th>Purchase Address</th>\n",
       "    </tr>\n",
       "  </thead>\n",
       "  <tbody>\n",
       "    <tr>\n",
       "      <th>0</th>\n",
       "      <td>141234</td>\n",
       "      <td>iPhone</td>\n",
       "      <td>1</td>\n",
       "      <td>700</td>\n",
       "      <td>01/22/19 21:25</td>\n",
       "      <td>944 Walnut St, Boston, MA 02215</td>\n",
       "    </tr>\n",
       "    <tr>\n",
       "      <th>1</th>\n",
       "      <td>141235</td>\n",
       "      <td>Lightning Charging Cable</td>\n",
       "      <td>1</td>\n",
       "      <td>14.95</td>\n",
       "      <td>01/28/19 14:15</td>\n",
       "      <td>185 Maple St, Portland, OR 97035</td>\n",
       "    </tr>\n",
       "    <tr>\n",
       "      <th>2</th>\n",
       "      <td>141236</td>\n",
       "      <td>Wired Headphones</td>\n",
       "      <td>2</td>\n",
       "      <td>11.99</td>\n",
       "      <td>01/17/19 13:33</td>\n",
       "      <td>538 Adams St, San Francisco, CA 94016</td>\n",
       "    </tr>\n",
       "    <tr>\n",
       "      <th>3</th>\n",
       "      <td>141237</td>\n",
       "      <td>27in FHD Monitor</td>\n",
       "      <td>1</td>\n",
       "      <td>149.99</td>\n",
       "      <td>01/05/19 20:33</td>\n",
       "      <td>738 10th St, Los Angeles, CA 90001</td>\n",
       "    </tr>\n",
       "    <tr>\n",
       "      <th>4</th>\n",
       "      <td>141238</td>\n",
       "      <td>Wired Headphones</td>\n",
       "      <td>1</td>\n",
       "      <td>11.99</td>\n",
       "      <td>01/25/19 11:59</td>\n",
       "      <td>387 10th St, Austin, TX 73301</td>\n",
       "    </tr>\n",
       "    <tr>\n",
       "      <th>...</th>\n",
       "      <td>...</td>\n",
       "      <td>...</td>\n",
       "      <td>...</td>\n",
       "      <td>...</td>\n",
       "      <td>...</td>\n",
       "      <td>...</td>\n",
       "    </tr>\n",
       "    <tr>\n",
       "      <th>9718</th>\n",
       "      <td>150497</td>\n",
       "      <td>20in Monitor</td>\n",
       "      <td>1</td>\n",
       "      <td>109.99</td>\n",
       "      <td>01/26/19 19:09</td>\n",
       "      <td>95 8th St, Dallas, TX 75001</td>\n",
       "    </tr>\n",
       "    <tr>\n",
       "      <th>9719</th>\n",
       "      <td>150498</td>\n",
       "      <td>27in FHD Monitor</td>\n",
       "      <td>1</td>\n",
       "      <td>149.99</td>\n",
       "      <td>01/10/19 22:58</td>\n",
       "      <td>403 7th St, San Francisco, CA 94016</td>\n",
       "    </tr>\n",
       "    <tr>\n",
       "      <th>9720</th>\n",
       "      <td>150499</td>\n",
       "      <td>ThinkPad Laptop</td>\n",
       "      <td>1</td>\n",
       "      <td>999.99</td>\n",
       "      <td>01/21/19 14:31</td>\n",
       "      <td>214 Main St, Portland, OR 97035</td>\n",
       "    </tr>\n",
       "    <tr>\n",
       "      <th>9721</th>\n",
       "      <td>150500</td>\n",
       "      <td>AAA Batteries (4-pack)</td>\n",
       "      <td>2</td>\n",
       "      <td>2.99</td>\n",
       "      <td>01/15/19 14:21</td>\n",
       "      <td>810 2nd St, Los Angeles, CA 90001</td>\n",
       "    </tr>\n",
       "    <tr>\n",
       "      <th>9722</th>\n",
       "      <td>150501</td>\n",
       "      <td>Google Phone</td>\n",
       "      <td>1</td>\n",
       "      <td>600</td>\n",
       "      <td>01/13/19 16:43</td>\n",
       "      <td>428 Cedar St, Boston, MA 02215</td>\n",
       "    </tr>\n",
       "  </tbody>\n",
       "</table>\n",
       "<p>9723 rows × 6 columns</p>\n",
       "</div>"
      ],
      "text/plain": [
       "     Order ID                   Product Quantity Ordered Price Each  \\\n",
       "0      141234                    iPhone                1        700   \n",
       "1      141235  Lightning Charging Cable                1      14.95   \n",
       "2      141236          Wired Headphones                2      11.99   \n",
       "3      141237          27in FHD Monitor                1     149.99   \n",
       "4      141238          Wired Headphones                1      11.99   \n",
       "...       ...                       ...              ...        ...   \n",
       "9718   150497              20in Monitor                1     109.99   \n",
       "9719   150498          27in FHD Monitor                1     149.99   \n",
       "9720   150499           ThinkPad Laptop                1     999.99   \n",
       "9721   150500    AAA Batteries (4-pack)                2       2.99   \n",
       "9722   150501              Google Phone                1        600   \n",
       "\n",
       "          Order Date                       Purchase Address  \n",
       "0     01/22/19 21:25        944 Walnut St, Boston, MA 02215  \n",
       "1     01/28/19 14:15       185 Maple St, Portland, OR 97035  \n",
       "2     01/17/19 13:33  538 Adams St, San Francisco, CA 94016  \n",
       "3     01/05/19 20:33     738 10th St, Los Angeles, CA 90001  \n",
       "4     01/25/19 11:59          387 10th St, Austin, TX 73301  \n",
       "...              ...                                    ...  \n",
       "9718  01/26/19 19:09            95 8th St, Dallas, TX 75001  \n",
       "9719  01/10/19 22:58    403 7th St, San Francisco, CA 94016  \n",
       "9720  01/21/19 14:31        214 Main St, Portland, OR 97035  \n",
       "9721  01/15/19 14:21      810 2nd St, Los Angeles, CA 90001  \n",
       "9722  01/13/19 16:43         428 Cedar St, Boston, MA 02215  \n",
       "\n",
       "[9723 rows x 6 columns]"
      ]
     },
     "metadata": {},
     "execution_count": 7
    }
   ],
   "metadata": {}
  },
  {
   "cell_type": "code",
   "execution_count": 8,
   "source": [
    "# Combining the Tables into one table \r\n",
    "df = pd.concat([Each_month[0], Each_month[1], Each_month[2], Each_month[3], Each_month[4], Each_month[5], Each_month[6], Each_month[7], Each_month[8], Each_month[9], Each_month[10], Each_month[11]], ignore_index=True)\r\n"
   ],
   "outputs": [],
   "metadata": {}
  },
  {
   "cell_type": "markdown",
   "source": [
    "# Assessing"
   ],
   "metadata": {}
  },
  {
   "cell_type": "code",
   "execution_count": 9,
   "source": [
    "df"
   ],
   "outputs": [
    {
     "output_type": "execute_result",
     "data": {
      "text/html": [
       "<div>\n",
       "<style scoped>\n",
       "    .dataframe tbody tr th:only-of-type {\n",
       "        vertical-align: middle;\n",
       "    }\n",
       "\n",
       "    .dataframe tbody tr th {\n",
       "        vertical-align: top;\n",
       "    }\n",
       "\n",
       "    .dataframe thead th {\n",
       "        text-align: right;\n",
       "    }\n",
       "</style>\n",
       "<table border=\"1\" class=\"dataframe\">\n",
       "  <thead>\n",
       "    <tr style=\"text-align: right;\">\n",
       "      <th></th>\n",
       "      <th>Order ID</th>\n",
       "      <th>Product</th>\n",
       "      <th>Quantity Ordered</th>\n",
       "      <th>Price Each</th>\n",
       "      <th>Order Date</th>\n",
       "      <th>Purchase Address</th>\n",
       "    </tr>\n",
       "  </thead>\n",
       "  <tbody>\n",
       "    <tr>\n",
       "      <th>0</th>\n",
       "      <td>141234</td>\n",
       "      <td>iPhone</td>\n",
       "      <td>1</td>\n",
       "      <td>700</td>\n",
       "      <td>01/22/19 21:25</td>\n",
       "      <td>944 Walnut St, Boston, MA 02215</td>\n",
       "    </tr>\n",
       "    <tr>\n",
       "      <th>1</th>\n",
       "      <td>141235</td>\n",
       "      <td>Lightning Charging Cable</td>\n",
       "      <td>1</td>\n",
       "      <td>14.95</td>\n",
       "      <td>01/28/19 14:15</td>\n",
       "      <td>185 Maple St, Portland, OR 97035</td>\n",
       "    </tr>\n",
       "    <tr>\n",
       "      <th>2</th>\n",
       "      <td>141236</td>\n",
       "      <td>Wired Headphones</td>\n",
       "      <td>2</td>\n",
       "      <td>11.99</td>\n",
       "      <td>01/17/19 13:33</td>\n",
       "      <td>538 Adams St, San Francisco, CA 94016</td>\n",
       "    </tr>\n",
       "    <tr>\n",
       "      <th>3</th>\n",
       "      <td>141237</td>\n",
       "      <td>27in FHD Monitor</td>\n",
       "      <td>1</td>\n",
       "      <td>149.99</td>\n",
       "      <td>01/05/19 20:33</td>\n",
       "      <td>738 10th St, Los Angeles, CA 90001</td>\n",
       "    </tr>\n",
       "    <tr>\n",
       "      <th>4</th>\n",
       "      <td>141238</td>\n",
       "      <td>Wired Headphones</td>\n",
       "      <td>1</td>\n",
       "      <td>11.99</td>\n",
       "      <td>01/25/19 11:59</td>\n",
       "      <td>387 10th St, Austin, TX 73301</td>\n",
       "    </tr>\n",
       "    <tr>\n",
       "      <th>...</th>\n",
       "      <td>...</td>\n",
       "      <td>...</td>\n",
       "      <td>...</td>\n",
       "      <td>...</td>\n",
       "      <td>...</td>\n",
       "      <td>...</td>\n",
       "    </tr>\n",
       "    <tr>\n",
       "      <th>186845</th>\n",
       "      <td>319666</td>\n",
       "      <td>Lightning Charging Cable</td>\n",
       "      <td>1</td>\n",
       "      <td>14.95</td>\n",
       "      <td>12/11/19 20:58</td>\n",
       "      <td>14 Madison St, San Francisco, CA 94016</td>\n",
       "    </tr>\n",
       "    <tr>\n",
       "      <th>186846</th>\n",
       "      <td>319667</td>\n",
       "      <td>AA Batteries (4-pack)</td>\n",
       "      <td>2</td>\n",
       "      <td>3.84</td>\n",
       "      <td>12/01/19 12:01</td>\n",
       "      <td>549 Willow St, Los Angeles, CA 90001</td>\n",
       "    </tr>\n",
       "    <tr>\n",
       "      <th>186847</th>\n",
       "      <td>319668</td>\n",
       "      <td>Vareebadd Phone</td>\n",
       "      <td>1</td>\n",
       "      <td>400</td>\n",
       "      <td>12/09/19 06:43</td>\n",
       "      <td>273 Wilson St, Seattle, WA 98101</td>\n",
       "    </tr>\n",
       "    <tr>\n",
       "      <th>186848</th>\n",
       "      <td>319669</td>\n",
       "      <td>Wired Headphones</td>\n",
       "      <td>1</td>\n",
       "      <td>11.99</td>\n",
       "      <td>12/03/19 10:39</td>\n",
       "      <td>778 River St, Dallas, TX 75001</td>\n",
       "    </tr>\n",
       "    <tr>\n",
       "      <th>186849</th>\n",
       "      <td>319670</td>\n",
       "      <td>Bose SoundSport Headphones</td>\n",
       "      <td>1</td>\n",
       "      <td>99.99</td>\n",
       "      <td>12/21/19 21:45</td>\n",
       "      <td>747 Chestnut St, Los Angeles, CA 90001</td>\n",
       "    </tr>\n",
       "  </tbody>\n",
       "</table>\n",
       "<p>186850 rows × 6 columns</p>\n",
       "</div>"
      ],
      "text/plain": [
       "       Order ID                     Product Quantity Ordered Price Each  \\\n",
       "0        141234                      iPhone                1        700   \n",
       "1        141235    Lightning Charging Cable                1      14.95   \n",
       "2        141236            Wired Headphones                2      11.99   \n",
       "3        141237            27in FHD Monitor                1     149.99   \n",
       "4        141238            Wired Headphones                1      11.99   \n",
       "...         ...                         ...              ...        ...   \n",
       "186845   319666    Lightning Charging Cable                1      14.95   \n",
       "186846   319667       AA Batteries (4-pack)                2       3.84   \n",
       "186847   319668             Vareebadd Phone                1        400   \n",
       "186848   319669            Wired Headphones                1      11.99   \n",
       "186849   319670  Bose SoundSport Headphones                1      99.99   \n",
       "\n",
       "            Order Date                        Purchase Address  \n",
       "0       01/22/19 21:25         944 Walnut St, Boston, MA 02215  \n",
       "1       01/28/19 14:15        185 Maple St, Portland, OR 97035  \n",
       "2       01/17/19 13:33   538 Adams St, San Francisco, CA 94016  \n",
       "3       01/05/19 20:33      738 10th St, Los Angeles, CA 90001  \n",
       "4       01/25/19 11:59           387 10th St, Austin, TX 73301  \n",
       "...                ...                                     ...  \n",
       "186845  12/11/19 20:58  14 Madison St, San Francisco, CA 94016  \n",
       "186846  12/01/19 12:01    549 Willow St, Los Angeles, CA 90001  \n",
       "186847  12/09/19 06:43        273 Wilson St, Seattle, WA 98101  \n",
       "186848  12/03/19 10:39          778 River St, Dallas, TX 75001  \n",
       "186849  12/21/19 21:45  747 Chestnut St, Los Angeles, CA 90001  \n",
       "\n",
       "[186850 rows x 6 columns]"
      ]
     },
     "metadata": {},
     "execution_count": 9
    }
   ],
   "metadata": {}
  },
  {
   "cell_type": "code",
   "execution_count": 10,
   "source": [
    "df.info()"
   ],
   "outputs": [
    {
     "output_type": "stream",
     "name": "stdout",
     "text": [
      "<class 'pandas.core.frame.DataFrame'>\n",
      "RangeIndex: 186850 entries, 0 to 186849\n",
      "Data columns (total 6 columns):\n",
      " #   Column            Non-Null Count   Dtype \n",
      "---  ------            --------------   ----- \n",
      " 0   Order ID          186305 non-null  object\n",
      " 1   Product           186305 non-null  object\n",
      " 2   Quantity Ordered  186305 non-null  object\n",
      " 3   Price Each        186305 non-null  object\n",
      " 4   Order Date        186305 non-null  object\n",
      " 5   Purchase Address  186305 non-null  object\n",
      "dtypes: object(6)\n",
      "memory usage: 8.6+ MB\n"
     ]
    }
   ],
   "metadata": {}
  },
  {
   "cell_type": "code",
   "execution_count": 11,
   "source": [
    "# Checking the unique values of the product columns\r\n",
    "# And found that the header in repeated as a record\r\n",
    "df.Product.value_counts()"
   ],
   "outputs": [
    {
     "output_type": "execute_result",
     "data": {
      "text/plain": [
       "USB-C Charging Cable          21903\n",
       "Lightning Charging Cable      21658\n",
       "AAA Batteries (4-pack)        20641\n",
       "AA Batteries (4-pack)         20577\n",
       "Wired Headphones              18882\n",
       "Apple Airpods Headphones      15549\n",
       "Bose SoundSport Headphones    13325\n",
       "27in FHD Monitor               7507\n",
       "iPhone                         6842\n",
       "27in 4K Gaming Monitor         6230\n",
       "34in Ultrawide Monitor         6181\n",
       "Google Phone                   5525\n",
       "Flatscreen TV                  4800\n",
       "Macbook Pro Laptop             4724\n",
       "ThinkPad Laptop                4128\n",
       "20in Monitor                   4101\n",
       "Vareebadd Phone                2065\n",
       "LG Washing Machine              666\n",
       "LG Dryer                        646\n",
       "Product                         355\n",
       "Name: Product, dtype: int64"
      ]
     },
     "metadata": {},
     "execution_count": 11
    }
   ],
   "metadata": {}
  },
  {
   "cell_type": "code",
   "execution_count": 12,
   "source": [
    "# Showing the records with the problem\r\n",
    "df.query(\"Product == 'Product'\")\r\n"
   ],
   "outputs": [
    {
     "output_type": "execute_result",
     "data": {
      "text/html": [
       "<div>\n",
       "<style scoped>\n",
       "    .dataframe tbody tr th:only-of-type {\n",
       "        vertical-align: middle;\n",
       "    }\n",
       "\n",
       "    .dataframe tbody tr th {\n",
       "        vertical-align: top;\n",
       "    }\n",
       "\n",
       "    .dataframe thead th {\n",
       "        text-align: right;\n",
       "    }\n",
       "</style>\n",
       "<table border=\"1\" class=\"dataframe\">\n",
       "  <thead>\n",
       "    <tr style=\"text-align: right;\">\n",
       "      <th></th>\n",
       "      <th>Order ID</th>\n",
       "      <th>Product</th>\n",
       "      <th>Quantity Ordered</th>\n",
       "      <th>Price Each</th>\n",
       "      <th>Order Date</th>\n",
       "      <th>Purchase Address</th>\n",
       "    </tr>\n",
       "  </thead>\n",
       "  <tbody>\n",
       "    <tr>\n",
       "      <th>1073</th>\n",
       "      <td>Order ID</td>\n",
       "      <td>Product</td>\n",
       "      <td>Quantity Ordered</td>\n",
       "      <td>Price Each</td>\n",
       "      <td>Order Date</td>\n",
       "      <td>Purchase Address</td>\n",
       "    </tr>\n",
       "    <tr>\n",
       "      <th>1102</th>\n",
       "      <td>Order ID</td>\n",
       "      <td>Product</td>\n",
       "      <td>Quantity Ordered</td>\n",
       "      <td>Price Each</td>\n",
       "      <td>Order Date</td>\n",
       "      <td>Purchase Address</td>\n",
       "    </tr>\n",
       "    <tr>\n",
       "      <th>1194</th>\n",
       "      <td>Order ID</td>\n",
       "      <td>Product</td>\n",
       "      <td>Quantity Ordered</td>\n",
       "      <td>Price Each</td>\n",
       "      <td>Order Date</td>\n",
       "      <td>Purchase Address</td>\n",
       "    </tr>\n",
       "    <tr>\n",
       "      <th>1897</th>\n",
       "      <td>Order ID</td>\n",
       "      <td>Product</td>\n",
       "      <td>Quantity Ordered</td>\n",
       "      <td>Price Each</td>\n",
       "      <td>Order Date</td>\n",
       "      <td>Purchase Address</td>\n",
       "    </tr>\n",
       "    <tr>\n",
       "      <th>2463</th>\n",
       "      <td>Order ID</td>\n",
       "      <td>Product</td>\n",
       "      <td>Quantity Ordered</td>\n",
       "      <td>Price Each</td>\n",
       "      <td>Order Date</td>\n",
       "      <td>Purchase Address</td>\n",
       "    </tr>\n",
       "    <tr>\n",
       "      <th>...</th>\n",
       "      <td>...</td>\n",
       "      <td>...</td>\n",
       "      <td>...</td>\n",
       "      <td>...</td>\n",
       "      <td>...</td>\n",
       "      <td>...</td>\n",
       "    </tr>\n",
       "    <tr>\n",
       "      <th>184931</th>\n",
       "      <td>Order ID</td>\n",
       "      <td>Product</td>\n",
       "      <td>Quantity Ordered</td>\n",
       "      <td>Price Each</td>\n",
       "      <td>Order Date</td>\n",
       "      <td>Purchase Address</td>\n",
       "    </tr>\n",
       "    <tr>\n",
       "      <th>185070</th>\n",
       "      <td>Order ID</td>\n",
       "      <td>Product</td>\n",
       "      <td>Quantity Ordered</td>\n",
       "      <td>Price Each</td>\n",
       "      <td>Order Date</td>\n",
       "      <td>Purchase Address</td>\n",
       "    </tr>\n",
       "    <tr>\n",
       "      <th>185481</th>\n",
       "      <td>Order ID</td>\n",
       "      <td>Product</td>\n",
       "      <td>Quantity Ordered</td>\n",
       "      <td>Price Each</td>\n",
       "      <td>Order Date</td>\n",
       "      <td>Purchase Address</td>\n",
       "    </tr>\n",
       "    <tr>\n",
       "      <th>185925</th>\n",
       "      <td>Order ID</td>\n",
       "      <td>Product</td>\n",
       "      <td>Quantity Ordered</td>\n",
       "      <td>Price Each</td>\n",
       "      <td>Order Date</td>\n",
       "      <td>Purchase Address</td>\n",
       "    </tr>\n",
       "    <tr>\n",
       "      <th>185955</th>\n",
       "      <td>Order ID</td>\n",
       "      <td>Product</td>\n",
       "      <td>Quantity Ordered</td>\n",
       "      <td>Price Each</td>\n",
       "      <td>Order Date</td>\n",
       "      <td>Purchase Address</td>\n",
       "    </tr>\n",
       "  </tbody>\n",
       "</table>\n",
       "<p>355 rows × 6 columns</p>\n",
       "</div>"
      ],
      "text/plain": [
       "        Order ID  Product  Quantity Ordered  Price Each  Order Date  \\\n",
       "1073    Order ID  Product  Quantity Ordered  Price Each  Order Date   \n",
       "1102    Order ID  Product  Quantity Ordered  Price Each  Order Date   \n",
       "1194    Order ID  Product  Quantity Ordered  Price Each  Order Date   \n",
       "1897    Order ID  Product  Quantity Ordered  Price Each  Order Date   \n",
       "2463    Order ID  Product  Quantity Ordered  Price Each  Order Date   \n",
       "...          ...      ...               ...         ...         ...   \n",
       "184931  Order ID  Product  Quantity Ordered  Price Each  Order Date   \n",
       "185070  Order ID  Product  Quantity Ordered  Price Each  Order Date   \n",
       "185481  Order ID  Product  Quantity Ordered  Price Each  Order Date   \n",
       "185925  Order ID  Product  Quantity Ordered  Price Each  Order Date   \n",
       "185955  Order ID  Product  Quantity Ordered  Price Each  Order Date   \n",
       "\n",
       "        Purchase Address  \n",
       "1073    Purchase Address  \n",
       "1102    Purchase Address  \n",
       "1194    Purchase Address  \n",
       "1897    Purchase Address  \n",
       "2463    Purchase Address  \n",
       "...                  ...  \n",
       "184931  Purchase Address  \n",
       "185070  Purchase Address  \n",
       "185481  Purchase Address  \n",
       "185925  Purchase Address  \n",
       "185955  Purchase Address  \n",
       "\n",
       "[355 rows x 6 columns]"
      ]
     },
     "metadata": {},
     "execution_count": 12
    }
   ],
   "metadata": {}
  },
  {
   "cell_type": "code",
   "execution_count": 13,
   "source": [
    "# Checking the NULLs \r\n",
    "df.isnull().sum()"
   ],
   "outputs": [
    {
     "output_type": "execute_result",
     "data": {
      "text/plain": [
       "Order ID            545\n",
       "Product             545\n",
       "Quantity Ordered    545\n",
       "Price Each          545\n",
       "Order Date          545\n",
       "Purchase Address    545\n",
       "dtype: int64"
      ]
     },
     "metadata": {},
     "execution_count": 13
    }
   ],
   "metadata": {}
  },
  {
   "cell_type": "code",
   "execution_count": 14,
   "source": [
    "# Checking Duplicates\r\n",
    "pd.concat(g for _, g in df.groupby(\"Order ID\") if len(g) > 1)"
   ],
   "outputs": [
    {
     "output_type": "execute_result",
     "data": {
      "text/html": [
       "<div>\n",
       "<style scoped>\n",
       "    .dataframe tbody tr th:only-of-type {\n",
       "        vertical-align: middle;\n",
       "    }\n",
       "\n",
       "    .dataframe tbody tr th {\n",
       "        vertical-align: top;\n",
       "    }\n",
       "\n",
       "    .dataframe thead th {\n",
       "        text-align: right;\n",
       "    }\n",
       "</style>\n",
       "<table border=\"1\" class=\"dataframe\">\n",
       "  <thead>\n",
       "    <tr style=\"text-align: right;\">\n",
       "      <th></th>\n",
       "      <th>Order ID</th>\n",
       "      <th>Product</th>\n",
       "      <th>Quantity Ordered</th>\n",
       "      <th>Price Each</th>\n",
       "      <th>Order Date</th>\n",
       "      <th>Purchase Address</th>\n",
       "    </tr>\n",
       "  </thead>\n",
       "  <tbody>\n",
       "    <tr>\n",
       "      <th>41</th>\n",
       "      <td>141275</td>\n",
       "      <td>USB-C Charging Cable</td>\n",
       "      <td>1</td>\n",
       "      <td>11.95</td>\n",
       "      <td>01/07/19 16:06</td>\n",
       "      <td>610 Walnut St, Austin, TX 73301</td>\n",
       "    </tr>\n",
       "    <tr>\n",
       "      <th>42</th>\n",
       "      <td>141275</td>\n",
       "      <td>Wired Headphones</td>\n",
       "      <td>1</td>\n",
       "      <td>11.99</td>\n",
       "      <td>01/07/19 16:06</td>\n",
       "      <td>610 Walnut St, Austin, TX 73301</td>\n",
       "    </tr>\n",
       "    <tr>\n",
       "      <th>57</th>\n",
       "      <td>141290</td>\n",
       "      <td>Apple Airpods Headphones</td>\n",
       "      <td>1</td>\n",
       "      <td>150</td>\n",
       "      <td>01/02/19 08:25</td>\n",
       "      <td>4 1st St, Los Angeles, CA 90001</td>\n",
       "    </tr>\n",
       "    <tr>\n",
       "      <th>58</th>\n",
       "      <td>141290</td>\n",
       "      <td>AA Batteries (4-pack)</td>\n",
       "      <td>3</td>\n",
       "      <td>3.84</td>\n",
       "      <td>01/02/19 08:25</td>\n",
       "      <td>4 1st St, Los Angeles, CA 90001</td>\n",
       "    </tr>\n",
       "    <tr>\n",
       "      <th>133</th>\n",
       "      <td>141365</td>\n",
       "      <td>Vareebadd Phone</td>\n",
       "      <td>1</td>\n",
       "      <td>400</td>\n",
       "      <td>01/10/19 11:19</td>\n",
       "      <td>20 Dogwood St, New York City, NY 10001</td>\n",
       "    </tr>\n",
       "    <tr>\n",
       "      <th>...</th>\n",
       "      <td>...</td>\n",
       "      <td>...</td>\n",
       "      <td>...</td>\n",
       "      <td>...</td>\n",
       "      <td>...</td>\n",
       "      <td>...</td>\n",
       "    </tr>\n",
       "    <tr>\n",
       "      <th>184931</th>\n",
       "      <td>Order ID</td>\n",
       "      <td>Product</td>\n",
       "      <td>Quantity Ordered</td>\n",
       "      <td>Price Each</td>\n",
       "      <td>Order Date</td>\n",
       "      <td>Purchase Address</td>\n",
       "    </tr>\n",
       "    <tr>\n",
       "      <th>185070</th>\n",
       "      <td>Order ID</td>\n",
       "      <td>Product</td>\n",
       "      <td>Quantity Ordered</td>\n",
       "      <td>Price Each</td>\n",
       "      <td>Order Date</td>\n",
       "      <td>Purchase Address</td>\n",
       "    </tr>\n",
       "    <tr>\n",
       "      <th>185481</th>\n",
       "      <td>Order ID</td>\n",
       "      <td>Product</td>\n",
       "      <td>Quantity Ordered</td>\n",
       "      <td>Price Each</td>\n",
       "      <td>Order Date</td>\n",
       "      <td>Purchase Address</td>\n",
       "    </tr>\n",
       "    <tr>\n",
       "      <th>185925</th>\n",
       "      <td>Order ID</td>\n",
       "      <td>Product</td>\n",
       "      <td>Quantity Ordered</td>\n",
       "      <td>Price Each</td>\n",
       "      <td>Order Date</td>\n",
       "      <td>Purchase Address</td>\n",
       "    </tr>\n",
       "    <tr>\n",
       "      <th>185955</th>\n",
       "      <td>Order ID</td>\n",
       "      <td>Product</td>\n",
       "      <td>Quantity Ordered</td>\n",
       "      <td>Price Each</td>\n",
       "      <td>Order Date</td>\n",
       "      <td>Purchase Address</td>\n",
       "    </tr>\n",
       "  </tbody>\n",
       "</table>\n",
       "<p>15004 rows × 6 columns</p>\n",
       "</div>"
      ],
      "text/plain": [
       "        Order ID                   Product  Quantity Ordered  Price Each  \\\n",
       "41        141275      USB-C Charging Cable                 1       11.95   \n",
       "42        141275          Wired Headphones                 1       11.99   \n",
       "57        141290  Apple Airpods Headphones                 1         150   \n",
       "58        141290     AA Batteries (4-pack)                 3        3.84   \n",
       "133       141365           Vareebadd Phone                 1         400   \n",
       "...          ...                       ...               ...         ...   \n",
       "184931  Order ID                   Product  Quantity Ordered  Price Each   \n",
       "185070  Order ID                   Product  Quantity Ordered  Price Each   \n",
       "185481  Order ID                   Product  Quantity Ordered  Price Each   \n",
       "185925  Order ID                   Product  Quantity Ordered  Price Each   \n",
       "185955  Order ID                   Product  Quantity Ordered  Price Each   \n",
       "\n",
       "            Order Date                        Purchase Address  \n",
       "41      01/07/19 16:06         610 Walnut St, Austin, TX 73301  \n",
       "42      01/07/19 16:06         610 Walnut St, Austin, TX 73301  \n",
       "57      01/02/19 08:25         4 1st St, Los Angeles, CA 90001  \n",
       "58      01/02/19 08:25         4 1st St, Los Angeles, CA 90001  \n",
       "133     01/10/19 11:19  20 Dogwood St, New York City, NY 10001  \n",
       "...                ...                                     ...  \n",
       "184931      Order Date                        Purchase Address  \n",
       "185070      Order Date                        Purchase Address  \n",
       "185481      Order Date                        Purchase Address  \n",
       "185925      Order Date                        Purchase Address  \n",
       "185955      Order Date                        Purchase Address  \n",
       "\n",
       "[15004 rows x 6 columns]"
      ]
     },
     "metadata": {},
     "execution_count": 14
    }
   ],
   "metadata": {}
  },
  {
   "cell_type": "markdown",
   "source": [
    "## Issues:\r\n",
    "- Wrong data types for some columns\r\n",
    "- The columns headers are repeated within the data\r\n",
    "- Columns with two words need to be changed\r\n",
    "- There is NULL Values "
   ],
   "metadata": {}
  },
  {
   "cell_type": "markdown",
   "source": [
    "# Cleaning"
   ],
   "metadata": {}
  },
  {
   "cell_type": "code",
   "execution_count": 62,
   "source": [
    "# making a copy from the data \r\n",
    "df_modified = df.copy()"
   ],
   "outputs": [],
   "metadata": {}
  },
  {
   "cell_type": "markdown",
   "source": [
    "- The columns headers are repeated within the data"
   ],
   "metadata": {}
  },
  {
   "cell_type": "code",
   "execution_count": 63,
   "source": [
    "df_modified = df_modified.query(\"Product != 'Product'\")"
   ],
   "outputs": [],
   "metadata": {}
  },
  {
   "cell_type": "code",
   "execution_count": 64,
   "source": [
    "df_modified.query(\"Product == 'Product'\")"
   ],
   "outputs": [
    {
     "output_type": "execute_result",
     "data": {
      "text/html": [
       "<div>\n",
       "<style scoped>\n",
       "    .dataframe tbody tr th:only-of-type {\n",
       "        vertical-align: middle;\n",
       "    }\n",
       "\n",
       "    .dataframe tbody tr th {\n",
       "        vertical-align: top;\n",
       "    }\n",
       "\n",
       "    .dataframe thead th {\n",
       "        text-align: right;\n",
       "    }\n",
       "</style>\n",
       "<table border=\"1\" class=\"dataframe\">\n",
       "  <thead>\n",
       "    <tr style=\"text-align: right;\">\n",
       "      <th></th>\n",
       "      <th>Order ID</th>\n",
       "      <th>Product</th>\n",
       "      <th>Quantity Ordered</th>\n",
       "      <th>Price Each</th>\n",
       "      <th>Order Date</th>\n",
       "      <th>Purchase Address</th>\n",
       "    </tr>\n",
       "  </thead>\n",
       "  <tbody>\n",
       "  </tbody>\n",
       "</table>\n",
       "</div>"
      ],
      "text/plain": [
       "Empty DataFrame\n",
       "Columns: [Order ID, Product, Quantity Ordered, Price Each, Order Date, Purchase Address]\n",
       "Index: []"
      ]
     },
     "metadata": {},
     "execution_count": 64
    }
   ],
   "metadata": {}
  },
  {
   "cell_type": "markdown",
   "source": [
    "- Wrong data types for some columns"
   ],
   "metadata": {}
  },
  {
   "cell_type": "code",
   "execution_count": 65,
   "source": [
    "# Converting each column's type to its correct type\r\n",
    "# but will leave order date with a string datatype to be able to convert it later\r\n",
    "df_modified['Quantity Ordered'] = pd.to_numeric(df_modified['Quantity Ordered'])\r\n",
    "df_modified['Price Each'] = pd.to_numeric(df_modified['Price Each'])\r\n"
   ],
   "outputs": [],
   "metadata": {}
  },
  {
   "cell_type": "code",
   "execution_count": 66,
   "source": [
    "df_modified.info()"
   ],
   "outputs": [
    {
     "output_type": "stream",
     "name": "stdout",
     "text": [
      "<class 'pandas.core.frame.DataFrame'>\n",
      "Int64Index: 186495 entries, 0 to 186849\n",
      "Data columns (total 6 columns):\n",
      " #   Column            Non-Null Count   Dtype  \n",
      "---  ------            --------------   -----  \n",
      " 0   Order ID          185950 non-null  object \n",
      " 1   Product           185950 non-null  object \n",
      " 2   Quantity Ordered  185950 non-null  float64\n",
      " 3   Price Each        185950 non-null  float64\n",
      " 4   Order Date        185950 non-null  object \n",
      " 5   Purchase Address  185950 non-null  object \n",
      "dtypes: float64(2), object(4)\n",
      "memory usage: 10.0+ MB\n"
     ]
    }
   ],
   "metadata": {}
  },
  {
   "cell_type": "markdown",
   "source": [
    "- Columns with two words needs to be changed"
   ],
   "metadata": {}
  },
  {
   "cell_type": "code",
   "execution_count": 67,
   "source": [
    "# Changing some columns name to be efficient in python\r\n",
    "df_modified.rename(columns={'Order ID': 'Order_ID', 'Quantity Ordered': 'Quantity_Ordered', 'Price Each':'Price_Each', 'Order Date': 'Order_Date', 'Purchase Address': 'Purchase_Address'}, inplace=True)"
   ],
   "outputs": [],
   "metadata": {}
  },
  {
   "cell_type": "code",
   "execution_count": 68,
   "source": [
    "df_modified.columns"
   ],
   "outputs": [
    {
     "output_type": "execute_result",
     "data": {
      "text/plain": [
       "Index(['Order_ID', 'Product', 'Quantity_Ordered', 'Price_Each', 'Order_Date',\n",
       "       'Purchase_Address'],\n",
       "      dtype='object')"
      ]
     },
     "metadata": {},
     "execution_count": 68
    }
   ],
   "metadata": {}
  },
  {
   "cell_type": "markdown",
   "source": [
    "- There is NULL values"
   ],
   "metadata": {}
  },
  {
   "cell_type": "code",
   "execution_count": 69,
   "source": [
    "# Dropping the NULLs\r\n",
    "df_modified.dropna(inplace=True)"
   ],
   "outputs": [],
   "metadata": {}
  },
  {
   "cell_type": "code",
   "execution_count": 70,
   "source": [
    "# Checking the NULLs after removing it\r\n",
    "df_modified.isnull().sum()"
   ],
   "outputs": [
    {
     "output_type": "execute_result",
     "data": {
      "text/plain": [
       "Order_ID            0\n",
       "Product             0\n",
       "Quantity_Ordered    0\n",
       "Price_Each          0\n",
       "Order_Date          0\n",
       "Purchase_Address    0\n",
       "dtype: int64"
      ]
     },
     "metadata": {},
     "execution_count": 70
    }
   ],
   "metadata": {}
  },
  {
   "cell_type": "code",
   "execution_count": 71,
   "source": [
    "# Extracting the date only from the Order_Date column \r\n",
    "df_modified['Date'] = df_modified['Order_Date'].apply(lambda x : x.split()[0])\r\n",
    "\r\n",
    "#Extracting the Day from the Date column \r\n",
    "df_modified['Day'] = df_modified['Date'].apply(lambda x : x.split(\"/\")[1])\r\n"
   ],
   "outputs": [],
   "metadata": {}
  },
  {
   "cell_type": "code",
   "execution_count": 72,
   "source": [
    "df_modified.head(2)"
   ],
   "outputs": [
    {
     "output_type": "execute_result",
     "data": {
      "text/html": [
       "<div>\n",
       "<style scoped>\n",
       "    .dataframe tbody tr th:only-of-type {\n",
       "        vertical-align: middle;\n",
       "    }\n",
       "\n",
       "    .dataframe tbody tr th {\n",
       "        vertical-align: top;\n",
       "    }\n",
       "\n",
       "    .dataframe thead th {\n",
       "        text-align: right;\n",
       "    }\n",
       "</style>\n",
       "<table border=\"1\" class=\"dataframe\">\n",
       "  <thead>\n",
       "    <tr style=\"text-align: right;\">\n",
       "      <th></th>\n",
       "      <th>Order_ID</th>\n",
       "      <th>Product</th>\n",
       "      <th>Quantity_Ordered</th>\n",
       "      <th>Price_Each</th>\n",
       "      <th>Order_Date</th>\n",
       "      <th>Purchase_Address</th>\n",
       "      <th>Date</th>\n",
       "      <th>Day</th>\n",
       "    </tr>\n",
       "  </thead>\n",
       "  <tbody>\n",
       "    <tr>\n",
       "      <th>0</th>\n",
       "      <td>141234</td>\n",
       "      <td>iPhone</td>\n",
       "      <td>1.0</td>\n",
       "      <td>700.00</td>\n",
       "      <td>01/22/19 21:25</td>\n",
       "      <td>944 Walnut St, Boston, MA 02215</td>\n",
       "      <td>01/22/19</td>\n",
       "      <td>22</td>\n",
       "    </tr>\n",
       "    <tr>\n",
       "      <th>1</th>\n",
       "      <td>141235</td>\n",
       "      <td>Lightning Charging Cable</td>\n",
       "      <td>1.0</td>\n",
       "      <td>14.95</td>\n",
       "      <td>01/28/19 14:15</td>\n",
       "      <td>185 Maple St, Portland, OR 97035</td>\n",
       "      <td>01/28/19</td>\n",
       "      <td>28</td>\n",
       "    </tr>\n",
       "  </tbody>\n",
       "</table>\n",
       "</div>"
      ],
      "text/plain": [
       "  Order_ID                   Product  Quantity_Ordered  Price_Each  \\\n",
       "0   141234                    iPhone               1.0      700.00   \n",
       "1   141235  Lightning Charging Cable               1.0       14.95   \n",
       "\n",
       "       Order_Date                  Purchase_Address      Date Day  \n",
       "0  01/22/19 21:25   944 Walnut St, Boston, MA 02215  01/22/19  22  \n",
       "1  01/28/19 14:15  185 Maple St, Portland, OR 97035  01/28/19  28  "
      ]
     },
     "metadata": {},
     "execution_count": 72
    }
   ],
   "metadata": {}
  },
  {
   "cell_type": "code",
   "execution_count": 73,
   "source": [
    "# Convert the Date datatype column to a datetime \r\n",
    "df_modified['Date'] = pd.to_datetime(df_modified['Date'])"
   ],
   "outputs": [],
   "metadata": {}
  },
  {
   "cell_type": "code",
   "execution_count": 74,
   "source": [
    "# Extracting the month and weekday from the date \r\n",
    "df_modified['Month'] = pd.DatetimeIndex(df_modified['Date']).month\r\n",
    "df_modified['DayOfWeek'] = df_modified['Date'].dt.day_name()"
   ],
   "outputs": [],
   "metadata": {}
  },
  {
   "cell_type": "code",
   "execution_count": 75,
   "source": [
    "# Checking \r\n",
    "df_modified.info()\r\n",
    "df_modified"
   ],
   "outputs": [
    {
     "output_type": "stream",
     "name": "stdout",
     "text": [
      "<class 'pandas.core.frame.DataFrame'>\n",
      "Int64Index: 185950 entries, 0 to 186849\n",
      "Data columns (total 10 columns):\n",
      " #   Column            Non-Null Count   Dtype         \n",
      "---  ------            --------------   -----         \n",
      " 0   Order_ID          185950 non-null  object        \n",
      " 1   Product           185950 non-null  object        \n",
      " 2   Quantity_Ordered  185950 non-null  float64       \n",
      " 3   Price_Each        185950 non-null  float64       \n",
      " 4   Order_Date        185950 non-null  object        \n",
      " 5   Purchase_Address  185950 non-null  object        \n",
      " 6   Date              185950 non-null  datetime64[ns]\n",
      " 7   Day               185950 non-null  object        \n",
      " 8   Month             185950 non-null  int64         \n",
      " 9   DayOfWeek         185950 non-null  object        \n",
      "dtypes: datetime64[ns](1), float64(2), int64(1), object(6)\n",
      "memory usage: 15.6+ MB\n"
     ]
    },
    {
     "output_type": "execute_result",
     "data": {
      "text/html": [
       "<div>\n",
       "<style scoped>\n",
       "    .dataframe tbody tr th:only-of-type {\n",
       "        vertical-align: middle;\n",
       "    }\n",
       "\n",
       "    .dataframe tbody tr th {\n",
       "        vertical-align: top;\n",
       "    }\n",
       "\n",
       "    .dataframe thead th {\n",
       "        text-align: right;\n",
       "    }\n",
       "</style>\n",
       "<table border=\"1\" class=\"dataframe\">\n",
       "  <thead>\n",
       "    <tr style=\"text-align: right;\">\n",
       "      <th></th>\n",
       "      <th>Order_ID</th>\n",
       "      <th>Product</th>\n",
       "      <th>Quantity_Ordered</th>\n",
       "      <th>Price_Each</th>\n",
       "      <th>Order_Date</th>\n",
       "      <th>Purchase_Address</th>\n",
       "      <th>Date</th>\n",
       "      <th>Day</th>\n",
       "      <th>Month</th>\n",
       "      <th>DayOfWeek</th>\n",
       "    </tr>\n",
       "  </thead>\n",
       "  <tbody>\n",
       "    <tr>\n",
       "      <th>0</th>\n",
       "      <td>141234</td>\n",
       "      <td>iPhone</td>\n",
       "      <td>1.0</td>\n",
       "      <td>700.00</td>\n",
       "      <td>01/22/19 21:25</td>\n",
       "      <td>944 Walnut St, Boston, MA 02215</td>\n",
       "      <td>2019-01-22</td>\n",
       "      <td>22</td>\n",
       "      <td>1</td>\n",
       "      <td>Tuesday</td>\n",
       "    </tr>\n",
       "    <tr>\n",
       "      <th>1</th>\n",
       "      <td>141235</td>\n",
       "      <td>Lightning Charging Cable</td>\n",
       "      <td>1.0</td>\n",
       "      <td>14.95</td>\n",
       "      <td>01/28/19 14:15</td>\n",
       "      <td>185 Maple St, Portland, OR 97035</td>\n",
       "      <td>2019-01-28</td>\n",
       "      <td>28</td>\n",
       "      <td>1</td>\n",
       "      <td>Monday</td>\n",
       "    </tr>\n",
       "    <tr>\n",
       "      <th>2</th>\n",
       "      <td>141236</td>\n",
       "      <td>Wired Headphones</td>\n",
       "      <td>2.0</td>\n",
       "      <td>11.99</td>\n",
       "      <td>01/17/19 13:33</td>\n",
       "      <td>538 Adams St, San Francisco, CA 94016</td>\n",
       "      <td>2019-01-17</td>\n",
       "      <td>17</td>\n",
       "      <td>1</td>\n",
       "      <td>Thursday</td>\n",
       "    </tr>\n",
       "    <tr>\n",
       "      <th>3</th>\n",
       "      <td>141237</td>\n",
       "      <td>27in FHD Monitor</td>\n",
       "      <td>1.0</td>\n",
       "      <td>149.99</td>\n",
       "      <td>01/05/19 20:33</td>\n",
       "      <td>738 10th St, Los Angeles, CA 90001</td>\n",
       "      <td>2019-01-05</td>\n",
       "      <td>05</td>\n",
       "      <td>1</td>\n",
       "      <td>Saturday</td>\n",
       "    </tr>\n",
       "    <tr>\n",
       "      <th>4</th>\n",
       "      <td>141238</td>\n",
       "      <td>Wired Headphones</td>\n",
       "      <td>1.0</td>\n",
       "      <td>11.99</td>\n",
       "      <td>01/25/19 11:59</td>\n",
       "      <td>387 10th St, Austin, TX 73301</td>\n",
       "      <td>2019-01-25</td>\n",
       "      <td>25</td>\n",
       "      <td>1</td>\n",
       "      <td>Friday</td>\n",
       "    </tr>\n",
       "    <tr>\n",
       "      <th>...</th>\n",
       "      <td>...</td>\n",
       "      <td>...</td>\n",
       "      <td>...</td>\n",
       "      <td>...</td>\n",
       "      <td>...</td>\n",
       "      <td>...</td>\n",
       "      <td>...</td>\n",
       "      <td>...</td>\n",
       "      <td>...</td>\n",
       "      <td>...</td>\n",
       "    </tr>\n",
       "    <tr>\n",
       "      <th>186845</th>\n",
       "      <td>319666</td>\n",
       "      <td>Lightning Charging Cable</td>\n",
       "      <td>1.0</td>\n",
       "      <td>14.95</td>\n",
       "      <td>12/11/19 20:58</td>\n",
       "      <td>14 Madison St, San Francisco, CA 94016</td>\n",
       "      <td>2019-12-11</td>\n",
       "      <td>11</td>\n",
       "      <td>12</td>\n",
       "      <td>Wednesday</td>\n",
       "    </tr>\n",
       "    <tr>\n",
       "      <th>186846</th>\n",
       "      <td>319667</td>\n",
       "      <td>AA Batteries (4-pack)</td>\n",
       "      <td>2.0</td>\n",
       "      <td>3.84</td>\n",
       "      <td>12/01/19 12:01</td>\n",
       "      <td>549 Willow St, Los Angeles, CA 90001</td>\n",
       "      <td>2019-12-01</td>\n",
       "      <td>01</td>\n",
       "      <td>12</td>\n",
       "      <td>Sunday</td>\n",
       "    </tr>\n",
       "    <tr>\n",
       "      <th>186847</th>\n",
       "      <td>319668</td>\n",
       "      <td>Vareebadd Phone</td>\n",
       "      <td>1.0</td>\n",
       "      <td>400.00</td>\n",
       "      <td>12/09/19 06:43</td>\n",
       "      <td>273 Wilson St, Seattle, WA 98101</td>\n",
       "      <td>2019-12-09</td>\n",
       "      <td>09</td>\n",
       "      <td>12</td>\n",
       "      <td>Monday</td>\n",
       "    </tr>\n",
       "    <tr>\n",
       "      <th>186848</th>\n",
       "      <td>319669</td>\n",
       "      <td>Wired Headphones</td>\n",
       "      <td>1.0</td>\n",
       "      <td>11.99</td>\n",
       "      <td>12/03/19 10:39</td>\n",
       "      <td>778 River St, Dallas, TX 75001</td>\n",
       "      <td>2019-12-03</td>\n",
       "      <td>03</td>\n",
       "      <td>12</td>\n",
       "      <td>Tuesday</td>\n",
       "    </tr>\n",
       "    <tr>\n",
       "      <th>186849</th>\n",
       "      <td>319670</td>\n",
       "      <td>Bose SoundSport Headphones</td>\n",
       "      <td>1.0</td>\n",
       "      <td>99.99</td>\n",
       "      <td>12/21/19 21:45</td>\n",
       "      <td>747 Chestnut St, Los Angeles, CA 90001</td>\n",
       "      <td>2019-12-21</td>\n",
       "      <td>21</td>\n",
       "      <td>12</td>\n",
       "      <td>Saturday</td>\n",
       "    </tr>\n",
       "  </tbody>\n",
       "</table>\n",
       "<p>185950 rows × 10 columns</p>\n",
       "</div>"
      ],
      "text/plain": [
       "       Order_ID                     Product  Quantity_Ordered  Price_Each  \\\n",
       "0        141234                      iPhone               1.0      700.00   \n",
       "1        141235    Lightning Charging Cable               1.0       14.95   \n",
       "2        141236            Wired Headphones               2.0       11.99   \n",
       "3        141237            27in FHD Monitor               1.0      149.99   \n",
       "4        141238            Wired Headphones               1.0       11.99   \n",
       "...         ...                         ...               ...         ...   \n",
       "186845   319666    Lightning Charging Cable               1.0       14.95   \n",
       "186846   319667       AA Batteries (4-pack)               2.0        3.84   \n",
       "186847   319668             Vareebadd Phone               1.0      400.00   \n",
       "186848   319669            Wired Headphones               1.0       11.99   \n",
       "186849   319670  Bose SoundSport Headphones               1.0       99.99   \n",
       "\n",
       "            Order_Date                        Purchase_Address       Date Day  \\\n",
       "0       01/22/19 21:25         944 Walnut St, Boston, MA 02215 2019-01-22  22   \n",
       "1       01/28/19 14:15        185 Maple St, Portland, OR 97035 2019-01-28  28   \n",
       "2       01/17/19 13:33   538 Adams St, San Francisco, CA 94016 2019-01-17  17   \n",
       "3       01/05/19 20:33      738 10th St, Los Angeles, CA 90001 2019-01-05  05   \n",
       "4       01/25/19 11:59           387 10th St, Austin, TX 73301 2019-01-25  25   \n",
       "...                ...                                     ...        ...  ..   \n",
       "186845  12/11/19 20:58  14 Madison St, San Francisco, CA 94016 2019-12-11  11   \n",
       "186846  12/01/19 12:01    549 Willow St, Los Angeles, CA 90001 2019-12-01  01   \n",
       "186847  12/09/19 06:43        273 Wilson St, Seattle, WA 98101 2019-12-09  09   \n",
       "186848  12/03/19 10:39          778 River St, Dallas, TX 75001 2019-12-03  03   \n",
       "186849  12/21/19 21:45  747 Chestnut St, Los Angeles, CA 90001 2019-12-21  21   \n",
       "\n",
       "        Month  DayOfWeek  \n",
       "0           1    Tuesday  \n",
       "1           1     Monday  \n",
       "2           1   Thursday  \n",
       "3           1   Saturday  \n",
       "4           1     Friday  \n",
       "...       ...        ...  \n",
       "186845     12  Wednesday  \n",
       "186846     12     Sunday  \n",
       "186847     12     Monday  \n",
       "186848     12    Tuesday  \n",
       "186849     12   Saturday  \n",
       "\n",
       "[185950 rows x 10 columns]"
      ]
     },
     "metadata": {},
     "execution_count": 75
    }
   ],
   "metadata": {}
  },
  {
   "cell_type": "code",
   "execution_count": 76,
   "source": [
    "# Converting the month from the month number to the month name\r\n",
    "months = ['Jan', 'Feb', 'Mar', 'Apr', 'May', 'Jun', 'Jul', 'Aug', 'Sep', 'Oct', 'Nov', 'Dec']\r\n",
    "months_num = [1,2,3,4,5,6,7,8,9,10,11,12]\r\n",
    "for n in months_num:\r\n",
    "    df_modified['Month'][df_modified['Month'] == n] = months[n-1]\r\n",
    "df_modified"
   ],
   "outputs": [
    {
     "output_type": "stream",
     "name": "stderr",
     "text": [
      "<ipython-input-76-e9540837e5e1>:5: SettingWithCopyWarning:\n",
      "\n",
      "\n",
      "A value is trying to be set on a copy of a slice from a DataFrame\n",
      "\n",
      "See the caveats in the documentation: https://pandas.pydata.org/pandas-docs/stable/user_guide/indexing.html#returning-a-view-versus-a-copy\n",
      "\n"
     ]
    },
    {
     "output_type": "execute_result",
     "data": {
      "text/html": [
       "<div>\n",
       "<style scoped>\n",
       "    .dataframe tbody tr th:only-of-type {\n",
       "        vertical-align: middle;\n",
       "    }\n",
       "\n",
       "    .dataframe tbody tr th {\n",
       "        vertical-align: top;\n",
       "    }\n",
       "\n",
       "    .dataframe thead th {\n",
       "        text-align: right;\n",
       "    }\n",
       "</style>\n",
       "<table border=\"1\" class=\"dataframe\">\n",
       "  <thead>\n",
       "    <tr style=\"text-align: right;\">\n",
       "      <th></th>\n",
       "      <th>Order_ID</th>\n",
       "      <th>Product</th>\n",
       "      <th>Quantity_Ordered</th>\n",
       "      <th>Price_Each</th>\n",
       "      <th>Order_Date</th>\n",
       "      <th>Purchase_Address</th>\n",
       "      <th>Date</th>\n",
       "      <th>Day</th>\n",
       "      <th>Month</th>\n",
       "      <th>DayOfWeek</th>\n",
       "    </tr>\n",
       "  </thead>\n",
       "  <tbody>\n",
       "    <tr>\n",
       "      <th>0</th>\n",
       "      <td>141234</td>\n",
       "      <td>iPhone</td>\n",
       "      <td>1.0</td>\n",
       "      <td>700.00</td>\n",
       "      <td>01/22/19 21:25</td>\n",
       "      <td>944 Walnut St, Boston, MA 02215</td>\n",
       "      <td>2019-01-22</td>\n",
       "      <td>22</td>\n",
       "      <td>Jan</td>\n",
       "      <td>Tuesday</td>\n",
       "    </tr>\n",
       "    <tr>\n",
       "      <th>1</th>\n",
       "      <td>141235</td>\n",
       "      <td>Lightning Charging Cable</td>\n",
       "      <td>1.0</td>\n",
       "      <td>14.95</td>\n",
       "      <td>01/28/19 14:15</td>\n",
       "      <td>185 Maple St, Portland, OR 97035</td>\n",
       "      <td>2019-01-28</td>\n",
       "      <td>28</td>\n",
       "      <td>Jan</td>\n",
       "      <td>Monday</td>\n",
       "    </tr>\n",
       "    <tr>\n",
       "      <th>2</th>\n",
       "      <td>141236</td>\n",
       "      <td>Wired Headphones</td>\n",
       "      <td>2.0</td>\n",
       "      <td>11.99</td>\n",
       "      <td>01/17/19 13:33</td>\n",
       "      <td>538 Adams St, San Francisco, CA 94016</td>\n",
       "      <td>2019-01-17</td>\n",
       "      <td>17</td>\n",
       "      <td>Jan</td>\n",
       "      <td>Thursday</td>\n",
       "    </tr>\n",
       "    <tr>\n",
       "      <th>3</th>\n",
       "      <td>141237</td>\n",
       "      <td>27in FHD Monitor</td>\n",
       "      <td>1.0</td>\n",
       "      <td>149.99</td>\n",
       "      <td>01/05/19 20:33</td>\n",
       "      <td>738 10th St, Los Angeles, CA 90001</td>\n",
       "      <td>2019-01-05</td>\n",
       "      <td>05</td>\n",
       "      <td>Jan</td>\n",
       "      <td>Saturday</td>\n",
       "    </tr>\n",
       "    <tr>\n",
       "      <th>4</th>\n",
       "      <td>141238</td>\n",
       "      <td>Wired Headphones</td>\n",
       "      <td>1.0</td>\n",
       "      <td>11.99</td>\n",
       "      <td>01/25/19 11:59</td>\n",
       "      <td>387 10th St, Austin, TX 73301</td>\n",
       "      <td>2019-01-25</td>\n",
       "      <td>25</td>\n",
       "      <td>Jan</td>\n",
       "      <td>Friday</td>\n",
       "    </tr>\n",
       "    <tr>\n",
       "      <th>...</th>\n",
       "      <td>...</td>\n",
       "      <td>...</td>\n",
       "      <td>...</td>\n",
       "      <td>...</td>\n",
       "      <td>...</td>\n",
       "      <td>...</td>\n",
       "      <td>...</td>\n",
       "      <td>...</td>\n",
       "      <td>...</td>\n",
       "      <td>...</td>\n",
       "    </tr>\n",
       "    <tr>\n",
       "      <th>186845</th>\n",
       "      <td>319666</td>\n",
       "      <td>Lightning Charging Cable</td>\n",
       "      <td>1.0</td>\n",
       "      <td>14.95</td>\n",
       "      <td>12/11/19 20:58</td>\n",
       "      <td>14 Madison St, San Francisco, CA 94016</td>\n",
       "      <td>2019-12-11</td>\n",
       "      <td>11</td>\n",
       "      <td>Dec</td>\n",
       "      <td>Wednesday</td>\n",
       "    </tr>\n",
       "    <tr>\n",
       "      <th>186846</th>\n",
       "      <td>319667</td>\n",
       "      <td>AA Batteries (4-pack)</td>\n",
       "      <td>2.0</td>\n",
       "      <td>3.84</td>\n",
       "      <td>12/01/19 12:01</td>\n",
       "      <td>549 Willow St, Los Angeles, CA 90001</td>\n",
       "      <td>2019-12-01</td>\n",
       "      <td>01</td>\n",
       "      <td>Dec</td>\n",
       "      <td>Sunday</td>\n",
       "    </tr>\n",
       "    <tr>\n",
       "      <th>186847</th>\n",
       "      <td>319668</td>\n",
       "      <td>Vareebadd Phone</td>\n",
       "      <td>1.0</td>\n",
       "      <td>400.00</td>\n",
       "      <td>12/09/19 06:43</td>\n",
       "      <td>273 Wilson St, Seattle, WA 98101</td>\n",
       "      <td>2019-12-09</td>\n",
       "      <td>09</td>\n",
       "      <td>Dec</td>\n",
       "      <td>Monday</td>\n",
       "    </tr>\n",
       "    <tr>\n",
       "      <th>186848</th>\n",
       "      <td>319669</td>\n",
       "      <td>Wired Headphones</td>\n",
       "      <td>1.0</td>\n",
       "      <td>11.99</td>\n",
       "      <td>12/03/19 10:39</td>\n",
       "      <td>778 River St, Dallas, TX 75001</td>\n",
       "      <td>2019-12-03</td>\n",
       "      <td>03</td>\n",
       "      <td>Dec</td>\n",
       "      <td>Tuesday</td>\n",
       "    </tr>\n",
       "    <tr>\n",
       "      <th>186849</th>\n",
       "      <td>319670</td>\n",
       "      <td>Bose SoundSport Headphones</td>\n",
       "      <td>1.0</td>\n",
       "      <td>99.99</td>\n",
       "      <td>12/21/19 21:45</td>\n",
       "      <td>747 Chestnut St, Los Angeles, CA 90001</td>\n",
       "      <td>2019-12-21</td>\n",
       "      <td>21</td>\n",
       "      <td>Dec</td>\n",
       "      <td>Saturday</td>\n",
       "    </tr>\n",
       "  </tbody>\n",
       "</table>\n",
       "<p>185950 rows × 10 columns</p>\n",
       "</div>"
      ],
      "text/plain": [
       "       Order_ID                     Product  Quantity_Ordered  Price_Each  \\\n",
       "0        141234                      iPhone               1.0      700.00   \n",
       "1        141235    Lightning Charging Cable               1.0       14.95   \n",
       "2        141236            Wired Headphones               2.0       11.99   \n",
       "3        141237            27in FHD Monitor               1.0      149.99   \n",
       "4        141238            Wired Headphones               1.0       11.99   \n",
       "...         ...                         ...               ...         ...   \n",
       "186845   319666    Lightning Charging Cable               1.0       14.95   \n",
       "186846   319667       AA Batteries (4-pack)               2.0        3.84   \n",
       "186847   319668             Vareebadd Phone               1.0      400.00   \n",
       "186848   319669            Wired Headphones               1.0       11.99   \n",
       "186849   319670  Bose SoundSport Headphones               1.0       99.99   \n",
       "\n",
       "            Order_Date                        Purchase_Address       Date Day  \\\n",
       "0       01/22/19 21:25         944 Walnut St, Boston, MA 02215 2019-01-22  22   \n",
       "1       01/28/19 14:15        185 Maple St, Portland, OR 97035 2019-01-28  28   \n",
       "2       01/17/19 13:33   538 Adams St, San Francisco, CA 94016 2019-01-17  17   \n",
       "3       01/05/19 20:33      738 10th St, Los Angeles, CA 90001 2019-01-05  05   \n",
       "4       01/25/19 11:59           387 10th St, Austin, TX 73301 2019-01-25  25   \n",
       "...                ...                                     ...        ...  ..   \n",
       "186845  12/11/19 20:58  14 Madison St, San Francisco, CA 94016 2019-12-11  11   \n",
       "186846  12/01/19 12:01    549 Willow St, Los Angeles, CA 90001 2019-12-01  01   \n",
       "186847  12/09/19 06:43        273 Wilson St, Seattle, WA 98101 2019-12-09  09   \n",
       "186848  12/03/19 10:39          778 River St, Dallas, TX 75001 2019-12-03  03   \n",
       "186849  12/21/19 21:45  747 Chestnut St, Los Angeles, CA 90001 2019-12-21  21   \n",
       "\n",
       "       Month  DayOfWeek  \n",
       "0        Jan    Tuesday  \n",
       "1        Jan     Monday  \n",
       "2        Jan   Thursday  \n",
       "3        Jan   Saturday  \n",
       "4        Jan     Friday  \n",
       "...      ...        ...  \n",
       "186845   Dec  Wednesday  \n",
       "186846   Dec     Sunday  \n",
       "186847   Dec     Monday  \n",
       "186848   Dec    Tuesday  \n",
       "186849   Dec   Saturday  \n",
       "\n",
       "[185950 rows x 10 columns]"
      ]
     },
     "metadata": {},
     "execution_count": 76
    }
   ],
   "metadata": {}
  },
  {
   "cell_type": "code",
   "execution_count": 77,
   "source": [
    "# Checking\r\n",
    "df_modified.Month.value_counts().sort_values()"
   ],
   "outputs": [
    {
     "output_type": "execute_result",
     "data": {
      "text/plain": [
       "Jan     9709\n",
       "Sep    11621\n",
       "Aug    11961\n",
       "Feb    11975\n",
       "Jun    13554\n",
       "Jul    14293\n",
       "Mar    15153\n",
       "May    16566\n",
       "Nov    17573\n",
       "Apr    18279\n",
       "Oct    20282\n",
       "Dec    24984\n",
       "Name: Month, dtype: int64"
      ]
     },
     "metadata": {},
     "execution_count": 77
    }
   ],
   "metadata": {}
  },
  {
   "cell_type": "code",
   "execution_count": 79,
   "source": [
    "# Extracting the city and state from the address \r\n",
    "df_modified['City'] = df_modified['Purchase_Address'].apply(lambda x : x.split(',')[1])\r\n",
    "df_modified['State'] = df_modified['Purchase_Address'].apply(lambda x : x.split(',')[2])\r\n",
    "df_modified['State'] = df_modified['State'].apply(lambda x : x.split()[0])\r\n",
    "df_modified"
   ],
   "outputs": [
    {
     "output_type": "execute_result",
     "data": {
      "text/html": [
       "<div>\n",
       "<style scoped>\n",
       "    .dataframe tbody tr th:only-of-type {\n",
       "        vertical-align: middle;\n",
       "    }\n",
       "\n",
       "    .dataframe tbody tr th {\n",
       "        vertical-align: top;\n",
       "    }\n",
       "\n",
       "    .dataframe thead th {\n",
       "        text-align: right;\n",
       "    }\n",
       "</style>\n",
       "<table border=\"1\" class=\"dataframe\">\n",
       "  <thead>\n",
       "    <tr style=\"text-align: right;\">\n",
       "      <th></th>\n",
       "      <th>Order_ID</th>\n",
       "      <th>Product</th>\n",
       "      <th>Quantity_Ordered</th>\n",
       "      <th>Price_Each</th>\n",
       "      <th>Order_Date</th>\n",
       "      <th>Purchase_Address</th>\n",
       "      <th>Date</th>\n",
       "      <th>Day</th>\n",
       "      <th>Month</th>\n",
       "      <th>DayOfWeek</th>\n",
       "      <th>City</th>\n",
       "      <th>State</th>\n",
       "    </tr>\n",
       "  </thead>\n",
       "  <tbody>\n",
       "    <tr>\n",
       "      <th>0</th>\n",
       "      <td>141234</td>\n",
       "      <td>iPhone</td>\n",
       "      <td>1.0</td>\n",
       "      <td>700.00</td>\n",
       "      <td>01/22/19 21:25</td>\n",
       "      <td>944 Walnut St, Boston, MA 02215</td>\n",
       "      <td>2019-01-22</td>\n",
       "      <td>22</td>\n",
       "      <td>Jan</td>\n",
       "      <td>Tuesday</td>\n",
       "      <td>Boston</td>\n",
       "      <td>MA</td>\n",
       "    </tr>\n",
       "    <tr>\n",
       "      <th>1</th>\n",
       "      <td>141235</td>\n",
       "      <td>Lightning Charging Cable</td>\n",
       "      <td>1.0</td>\n",
       "      <td>14.95</td>\n",
       "      <td>01/28/19 14:15</td>\n",
       "      <td>185 Maple St, Portland, OR 97035</td>\n",
       "      <td>2019-01-28</td>\n",
       "      <td>28</td>\n",
       "      <td>Jan</td>\n",
       "      <td>Monday</td>\n",
       "      <td>Portland</td>\n",
       "      <td>OR</td>\n",
       "    </tr>\n",
       "    <tr>\n",
       "      <th>2</th>\n",
       "      <td>141236</td>\n",
       "      <td>Wired Headphones</td>\n",
       "      <td>2.0</td>\n",
       "      <td>11.99</td>\n",
       "      <td>01/17/19 13:33</td>\n",
       "      <td>538 Adams St, San Francisco, CA 94016</td>\n",
       "      <td>2019-01-17</td>\n",
       "      <td>17</td>\n",
       "      <td>Jan</td>\n",
       "      <td>Thursday</td>\n",
       "      <td>San Francisco</td>\n",
       "      <td>CA</td>\n",
       "    </tr>\n",
       "    <tr>\n",
       "      <th>3</th>\n",
       "      <td>141237</td>\n",
       "      <td>27in FHD Monitor</td>\n",
       "      <td>1.0</td>\n",
       "      <td>149.99</td>\n",
       "      <td>01/05/19 20:33</td>\n",
       "      <td>738 10th St, Los Angeles, CA 90001</td>\n",
       "      <td>2019-01-05</td>\n",
       "      <td>05</td>\n",
       "      <td>Jan</td>\n",
       "      <td>Saturday</td>\n",
       "      <td>Los Angeles</td>\n",
       "      <td>CA</td>\n",
       "    </tr>\n",
       "    <tr>\n",
       "      <th>4</th>\n",
       "      <td>141238</td>\n",
       "      <td>Wired Headphones</td>\n",
       "      <td>1.0</td>\n",
       "      <td>11.99</td>\n",
       "      <td>01/25/19 11:59</td>\n",
       "      <td>387 10th St, Austin, TX 73301</td>\n",
       "      <td>2019-01-25</td>\n",
       "      <td>25</td>\n",
       "      <td>Jan</td>\n",
       "      <td>Friday</td>\n",
       "      <td>Austin</td>\n",
       "      <td>TX</td>\n",
       "    </tr>\n",
       "    <tr>\n",
       "      <th>...</th>\n",
       "      <td>...</td>\n",
       "      <td>...</td>\n",
       "      <td>...</td>\n",
       "      <td>...</td>\n",
       "      <td>...</td>\n",
       "      <td>...</td>\n",
       "      <td>...</td>\n",
       "      <td>...</td>\n",
       "      <td>...</td>\n",
       "      <td>...</td>\n",
       "      <td>...</td>\n",
       "      <td>...</td>\n",
       "    </tr>\n",
       "    <tr>\n",
       "      <th>186845</th>\n",
       "      <td>319666</td>\n",
       "      <td>Lightning Charging Cable</td>\n",
       "      <td>1.0</td>\n",
       "      <td>14.95</td>\n",
       "      <td>12/11/19 20:58</td>\n",
       "      <td>14 Madison St, San Francisco, CA 94016</td>\n",
       "      <td>2019-12-11</td>\n",
       "      <td>11</td>\n",
       "      <td>Dec</td>\n",
       "      <td>Wednesday</td>\n",
       "      <td>San Francisco</td>\n",
       "      <td>CA</td>\n",
       "    </tr>\n",
       "    <tr>\n",
       "      <th>186846</th>\n",
       "      <td>319667</td>\n",
       "      <td>AA Batteries (4-pack)</td>\n",
       "      <td>2.0</td>\n",
       "      <td>3.84</td>\n",
       "      <td>12/01/19 12:01</td>\n",
       "      <td>549 Willow St, Los Angeles, CA 90001</td>\n",
       "      <td>2019-12-01</td>\n",
       "      <td>01</td>\n",
       "      <td>Dec</td>\n",
       "      <td>Sunday</td>\n",
       "      <td>Los Angeles</td>\n",
       "      <td>CA</td>\n",
       "    </tr>\n",
       "    <tr>\n",
       "      <th>186847</th>\n",
       "      <td>319668</td>\n",
       "      <td>Vareebadd Phone</td>\n",
       "      <td>1.0</td>\n",
       "      <td>400.00</td>\n",
       "      <td>12/09/19 06:43</td>\n",
       "      <td>273 Wilson St, Seattle, WA 98101</td>\n",
       "      <td>2019-12-09</td>\n",
       "      <td>09</td>\n",
       "      <td>Dec</td>\n",
       "      <td>Monday</td>\n",
       "      <td>Seattle</td>\n",
       "      <td>WA</td>\n",
       "    </tr>\n",
       "    <tr>\n",
       "      <th>186848</th>\n",
       "      <td>319669</td>\n",
       "      <td>Wired Headphones</td>\n",
       "      <td>1.0</td>\n",
       "      <td>11.99</td>\n",
       "      <td>12/03/19 10:39</td>\n",
       "      <td>778 River St, Dallas, TX 75001</td>\n",
       "      <td>2019-12-03</td>\n",
       "      <td>03</td>\n",
       "      <td>Dec</td>\n",
       "      <td>Tuesday</td>\n",
       "      <td>Dallas</td>\n",
       "      <td>TX</td>\n",
       "    </tr>\n",
       "    <tr>\n",
       "      <th>186849</th>\n",
       "      <td>319670</td>\n",
       "      <td>Bose SoundSport Headphones</td>\n",
       "      <td>1.0</td>\n",
       "      <td>99.99</td>\n",
       "      <td>12/21/19 21:45</td>\n",
       "      <td>747 Chestnut St, Los Angeles, CA 90001</td>\n",
       "      <td>2019-12-21</td>\n",
       "      <td>21</td>\n",
       "      <td>Dec</td>\n",
       "      <td>Saturday</td>\n",
       "      <td>Los Angeles</td>\n",
       "      <td>CA</td>\n",
       "    </tr>\n",
       "  </tbody>\n",
       "</table>\n",
       "<p>185950 rows × 12 columns</p>\n",
       "</div>"
      ],
      "text/plain": [
       "       Order_ID                     Product  Quantity_Ordered  Price_Each  \\\n",
       "0        141234                      iPhone               1.0      700.00   \n",
       "1        141235    Lightning Charging Cable               1.0       14.95   \n",
       "2        141236            Wired Headphones               2.0       11.99   \n",
       "3        141237            27in FHD Monitor               1.0      149.99   \n",
       "4        141238            Wired Headphones               1.0       11.99   \n",
       "...         ...                         ...               ...         ...   \n",
       "186845   319666    Lightning Charging Cable               1.0       14.95   \n",
       "186846   319667       AA Batteries (4-pack)               2.0        3.84   \n",
       "186847   319668             Vareebadd Phone               1.0      400.00   \n",
       "186848   319669            Wired Headphones               1.0       11.99   \n",
       "186849   319670  Bose SoundSport Headphones               1.0       99.99   \n",
       "\n",
       "            Order_Date                        Purchase_Address       Date Day  \\\n",
       "0       01/22/19 21:25         944 Walnut St, Boston, MA 02215 2019-01-22  22   \n",
       "1       01/28/19 14:15        185 Maple St, Portland, OR 97035 2019-01-28  28   \n",
       "2       01/17/19 13:33   538 Adams St, San Francisco, CA 94016 2019-01-17  17   \n",
       "3       01/05/19 20:33      738 10th St, Los Angeles, CA 90001 2019-01-05  05   \n",
       "4       01/25/19 11:59           387 10th St, Austin, TX 73301 2019-01-25  25   \n",
       "...                ...                                     ...        ...  ..   \n",
       "186845  12/11/19 20:58  14 Madison St, San Francisco, CA 94016 2019-12-11  11   \n",
       "186846  12/01/19 12:01    549 Willow St, Los Angeles, CA 90001 2019-12-01  01   \n",
       "186847  12/09/19 06:43        273 Wilson St, Seattle, WA 98101 2019-12-09  09   \n",
       "186848  12/03/19 10:39          778 River St, Dallas, TX 75001 2019-12-03  03   \n",
       "186849  12/21/19 21:45  747 Chestnut St, Los Angeles, CA 90001 2019-12-21  21   \n",
       "\n",
       "       Month  DayOfWeek            City State  \n",
       "0        Jan    Tuesday          Boston    MA  \n",
       "1        Jan     Monday        Portland    OR  \n",
       "2        Jan   Thursday   San Francisco    CA  \n",
       "3        Jan   Saturday     Los Angeles    CA  \n",
       "4        Jan     Friday          Austin    TX  \n",
       "...      ...        ...             ...   ...  \n",
       "186845   Dec  Wednesday   San Francisco    CA  \n",
       "186846   Dec     Sunday     Los Angeles    CA  \n",
       "186847   Dec     Monday         Seattle    WA  \n",
       "186848   Dec    Tuesday          Dallas    TX  \n",
       "186849   Dec   Saturday     Los Angeles    CA  \n",
       "\n",
       "[185950 rows x 12 columns]"
      ]
     },
     "metadata": {},
     "execution_count": 79
    }
   ],
   "metadata": {}
  },
  {
   "cell_type": "code",
   "execution_count": 80,
   "source": [
    "df_modified['State'].value_counts()"
   ],
   "outputs": [
    {
     "output_type": "execute_result",
     "data": {
      "text/plain": [
       "CA    74337\n",
       "NY    24876\n",
       "TX    24725\n",
       "MA    19934\n",
       "GA    14881\n",
       "WA    14732\n",
       "OR    10010\n",
       "ME     2455\n",
       "Name: State, dtype: int64"
      ]
     },
     "metadata": {},
     "execution_count": 80
    }
   ],
   "metadata": {}
  },
  {
   "cell_type": "code",
   "execution_count": 81,
   "source": [
    "# Getting the total price for each order\r\n",
    "df_modified['Total_Price'] = df_modified['Quantity_Ordered']* df_modified['Price_Each']\r\n",
    "df_modified"
   ],
   "outputs": [
    {
     "output_type": "execute_result",
     "data": {
      "text/html": [
       "<div>\n",
       "<style scoped>\n",
       "    .dataframe tbody tr th:only-of-type {\n",
       "        vertical-align: middle;\n",
       "    }\n",
       "\n",
       "    .dataframe tbody tr th {\n",
       "        vertical-align: top;\n",
       "    }\n",
       "\n",
       "    .dataframe thead th {\n",
       "        text-align: right;\n",
       "    }\n",
       "</style>\n",
       "<table border=\"1\" class=\"dataframe\">\n",
       "  <thead>\n",
       "    <tr style=\"text-align: right;\">\n",
       "      <th></th>\n",
       "      <th>Order_ID</th>\n",
       "      <th>Product</th>\n",
       "      <th>Quantity_Ordered</th>\n",
       "      <th>Price_Each</th>\n",
       "      <th>Order_Date</th>\n",
       "      <th>Purchase_Address</th>\n",
       "      <th>Date</th>\n",
       "      <th>Day</th>\n",
       "      <th>Month</th>\n",
       "      <th>DayOfWeek</th>\n",
       "      <th>City</th>\n",
       "      <th>State</th>\n",
       "      <th>Total_Price</th>\n",
       "    </tr>\n",
       "  </thead>\n",
       "  <tbody>\n",
       "    <tr>\n",
       "      <th>0</th>\n",
       "      <td>141234</td>\n",
       "      <td>iPhone</td>\n",
       "      <td>1.0</td>\n",
       "      <td>700.00</td>\n",
       "      <td>01/22/19 21:25</td>\n",
       "      <td>944 Walnut St, Boston, MA 02215</td>\n",
       "      <td>2019-01-22</td>\n",
       "      <td>22</td>\n",
       "      <td>Jan</td>\n",
       "      <td>Tuesday</td>\n",
       "      <td>Boston</td>\n",
       "      <td>MA</td>\n",
       "      <td>700.00</td>\n",
       "    </tr>\n",
       "    <tr>\n",
       "      <th>1</th>\n",
       "      <td>141235</td>\n",
       "      <td>Lightning Charging Cable</td>\n",
       "      <td>1.0</td>\n",
       "      <td>14.95</td>\n",
       "      <td>01/28/19 14:15</td>\n",
       "      <td>185 Maple St, Portland, OR 97035</td>\n",
       "      <td>2019-01-28</td>\n",
       "      <td>28</td>\n",
       "      <td>Jan</td>\n",
       "      <td>Monday</td>\n",
       "      <td>Portland</td>\n",
       "      <td>OR</td>\n",
       "      <td>14.95</td>\n",
       "    </tr>\n",
       "    <tr>\n",
       "      <th>2</th>\n",
       "      <td>141236</td>\n",
       "      <td>Wired Headphones</td>\n",
       "      <td>2.0</td>\n",
       "      <td>11.99</td>\n",
       "      <td>01/17/19 13:33</td>\n",
       "      <td>538 Adams St, San Francisco, CA 94016</td>\n",
       "      <td>2019-01-17</td>\n",
       "      <td>17</td>\n",
       "      <td>Jan</td>\n",
       "      <td>Thursday</td>\n",
       "      <td>San Francisco</td>\n",
       "      <td>CA</td>\n",
       "      <td>23.98</td>\n",
       "    </tr>\n",
       "    <tr>\n",
       "      <th>3</th>\n",
       "      <td>141237</td>\n",
       "      <td>27in FHD Monitor</td>\n",
       "      <td>1.0</td>\n",
       "      <td>149.99</td>\n",
       "      <td>01/05/19 20:33</td>\n",
       "      <td>738 10th St, Los Angeles, CA 90001</td>\n",
       "      <td>2019-01-05</td>\n",
       "      <td>05</td>\n",
       "      <td>Jan</td>\n",
       "      <td>Saturday</td>\n",
       "      <td>Los Angeles</td>\n",
       "      <td>CA</td>\n",
       "      <td>149.99</td>\n",
       "    </tr>\n",
       "    <tr>\n",
       "      <th>4</th>\n",
       "      <td>141238</td>\n",
       "      <td>Wired Headphones</td>\n",
       "      <td>1.0</td>\n",
       "      <td>11.99</td>\n",
       "      <td>01/25/19 11:59</td>\n",
       "      <td>387 10th St, Austin, TX 73301</td>\n",
       "      <td>2019-01-25</td>\n",
       "      <td>25</td>\n",
       "      <td>Jan</td>\n",
       "      <td>Friday</td>\n",
       "      <td>Austin</td>\n",
       "      <td>TX</td>\n",
       "      <td>11.99</td>\n",
       "    </tr>\n",
       "    <tr>\n",
       "      <th>...</th>\n",
       "      <td>...</td>\n",
       "      <td>...</td>\n",
       "      <td>...</td>\n",
       "      <td>...</td>\n",
       "      <td>...</td>\n",
       "      <td>...</td>\n",
       "      <td>...</td>\n",
       "      <td>...</td>\n",
       "      <td>...</td>\n",
       "      <td>...</td>\n",
       "      <td>...</td>\n",
       "      <td>...</td>\n",
       "      <td>...</td>\n",
       "    </tr>\n",
       "    <tr>\n",
       "      <th>186845</th>\n",
       "      <td>319666</td>\n",
       "      <td>Lightning Charging Cable</td>\n",
       "      <td>1.0</td>\n",
       "      <td>14.95</td>\n",
       "      <td>12/11/19 20:58</td>\n",
       "      <td>14 Madison St, San Francisco, CA 94016</td>\n",
       "      <td>2019-12-11</td>\n",
       "      <td>11</td>\n",
       "      <td>Dec</td>\n",
       "      <td>Wednesday</td>\n",
       "      <td>San Francisco</td>\n",
       "      <td>CA</td>\n",
       "      <td>14.95</td>\n",
       "    </tr>\n",
       "    <tr>\n",
       "      <th>186846</th>\n",
       "      <td>319667</td>\n",
       "      <td>AA Batteries (4-pack)</td>\n",
       "      <td>2.0</td>\n",
       "      <td>3.84</td>\n",
       "      <td>12/01/19 12:01</td>\n",
       "      <td>549 Willow St, Los Angeles, CA 90001</td>\n",
       "      <td>2019-12-01</td>\n",
       "      <td>01</td>\n",
       "      <td>Dec</td>\n",
       "      <td>Sunday</td>\n",
       "      <td>Los Angeles</td>\n",
       "      <td>CA</td>\n",
       "      <td>7.68</td>\n",
       "    </tr>\n",
       "    <tr>\n",
       "      <th>186847</th>\n",
       "      <td>319668</td>\n",
       "      <td>Vareebadd Phone</td>\n",
       "      <td>1.0</td>\n",
       "      <td>400.00</td>\n",
       "      <td>12/09/19 06:43</td>\n",
       "      <td>273 Wilson St, Seattle, WA 98101</td>\n",
       "      <td>2019-12-09</td>\n",
       "      <td>09</td>\n",
       "      <td>Dec</td>\n",
       "      <td>Monday</td>\n",
       "      <td>Seattle</td>\n",
       "      <td>WA</td>\n",
       "      <td>400.00</td>\n",
       "    </tr>\n",
       "    <tr>\n",
       "      <th>186848</th>\n",
       "      <td>319669</td>\n",
       "      <td>Wired Headphones</td>\n",
       "      <td>1.0</td>\n",
       "      <td>11.99</td>\n",
       "      <td>12/03/19 10:39</td>\n",
       "      <td>778 River St, Dallas, TX 75001</td>\n",
       "      <td>2019-12-03</td>\n",
       "      <td>03</td>\n",
       "      <td>Dec</td>\n",
       "      <td>Tuesday</td>\n",
       "      <td>Dallas</td>\n",
       "      <td>TX</td>\n",
       "      <td>11.99</td>\n",
       "    </tr>\n",
       "    <tr>\n",
       "      <th>186849</th>\n",
       "      <td>319670</td>\n",
       "      <td>Bose SoundSport Headphones</td>\n",
       "      <td>1.0</td>\n",
       "      <td>99.99</td>\n",
       "      <td>12/21/19 21:45</td>\n",
       "      <td>747 Chestnut St, Los Angeles, CA 90001</td>\n",
       "      <td>2019-12-21</td>\n",
       "      <td>21</td>\n",
       "      <td>Dec</td>\n",
       "      <td>Saturday</td>\n",
       "      <td>Los Angeles</td>\n",
       "      <td>CA</td>\n",
       "      <td>99.99</td>\n",
       "    </tr>\n",
       "  </tbody>\n",
       "</table>\n",
       "<p>185950 rows × 13 columns</p>\n",
       "</div>"
      ],
      "text/plain": [
       "       Order_ID                     Product  Quantity_Ordered  Price_Each  \\\n",
       "0        141234                      iPhone               1.0      700.00   \n",
       "1        141235    Lightning Charging Cable               1.0       14.95   \n",
       "2        141236            Wired Headphones               2.0       11.99   \n",
       "3        141237            27in FHD Monitor               1.0      149.99   \n",
       "4        141238            Wired Headphones               1.0       11.99   \n",
       "...         ...                         ...               ...         ...   \n",
       "186845   319666    Lightning Charging Cable               1.0       14.95   \n",
       "186846   319667       AA Batteries (4-pack)               2.0        3.84   \n",
       "186847   319668             Vareebadd Phone               1.0      400.00   \n",
       "186848   319669            Wired Headphones               1.0       11.99   \n",
       "186849   319670  Bose SoundSport Headphones               1.0       99.99   \n",
       "\n",
       "            Order_Date                        Purchase_Address       Date Day  \\\n",
       "0       01/22/19 21:25         944 Walnut St, Boston, MA 02215 2019-01-22  22   \n",
       "1       01/28/19 14:15        185 Maple St, Portland, OR 97035 2019-01-28  28   \n",
       "2       01/17/19 13:33   538 Adams St, San Francisco, CA 94016 2019-01-17  17   \n",
       "3       01/05/19 20:33      738 10th St, Los Angeles, CA 90001 2019-01-05  05   \n",
       "4       01/25/19 11:59           387 10th St, Austin, TX 73301 2019-01-25  25   \n",
       "...                ...                                     ...        ...  ..   \n",
       "186845  12/11/19 20:58  14 Madison St, San Francisco, CA 94016 2019-12-11  11   \n",
       "186846  12/01/19 12:01    549 Willow St, Los Angeles, CA 90001 2019-12-01  01   \n",
       "186847  12/09/19 06:43        273 Wilson St, Seattle, WA 98101 2019-12-09  09   \n",
       "186848  12/03/19 10:39          778 River St, Dallas, TX 75001 2019-12-03  03   \n",
       "186849  12/21/19 21:45  747 Chestnut St, Los Angeles, CA 90001 2019-12-21  21   \n",
       "\n",
       "       Month  DayOfWeek            City State  Total_Price  \n",
       "0        Jan    Tuesday          Boston    MA       700.00  \n",
       "1        Jan     Monday        Portland    OR        14.95  \n",
       "2        Jan   Thursday   San Francisco    CA        23.98  \n",
       "3        Jan   Saturday     Los Angeles    CA       149.99  \n",
       "4        Jan     Friday          Austin    TX        11.99  \n",
       "...      ...        ...             ...   ...          ...  \n",
       "186845   Dec  Wednesday   San Francisco    CA        14.95  \n",
       "186846   Dec     Sunday     Los Angeles    CA         7.68  \n",
       "186847   Dec     Monday         Seattle    WA       400.00  \n",
       "186848   Dec    Tuesday          Dallas    TX        11.99  \n",
       "186849   Dec   Saturday     Los Angeles    CA        99.99  \n",
       "\n",
       "[185950 rows x 13 columns]"
      ]
     },
     "metadata": {},
     "execution_count": 81
    }
   ],
   "metadata": {}
  },
  {
   "cell_type": "code",
   "execution_count": 82,
   "source": [
    "# Dropping order_date and address columns \r\n",
    "df_modified.drop(columns=['Order_Date', 'Purchase_Address', 'Date'], inplace=True)\r\n",
    "df_modified"
   ],
   "outputs": [
    {
     "output_type": "execute_result",
     "data": {
      "text/html": [
       "<div>\n",
       "<style scoped>\n",
       "    .dataframe tbody tr th:only-of-type {\n",
       "        vertical-align: middle;\n",
       "    }\n",
       "\n",
       "    .dataframe tbody tr th {\n",
       "        vertical-align: top;\n",
       "    }\n",
       "\n",
       "    .dataframe thead th {\n",
       "        text-align: right;\n",
       "    }\n",
       "</style>\n",
       "<table border=\"1\" class=\"dataframe\">\n",
       "  <thead>\n",
       "    <tr style=\"text-align: right;\">\n",
       "      <th></th>\n",
       "      <th>Order_ID</th>\n",
       "      <th>Product</th>\n",
       "      <th>Quantity_Ordered</th>\n",
       "      <th>Price_Each</th>\n",
       "      <th>Day</th>\n",
       "      <th>Month</th>\n",
       "      <th>DayOfWeek</th>\n",
       "      <th>City</th>\n",
       "      <th>State</th>\n",
       "      <th>Total_Price</th>\n",
       "    </tr>\n",
       "  </thead>\n",
       "  <tbody>\n",
       "    <tr>\n",
       "      <th>0</th>\n",
       "      <td>141234</td>\n",
       "      <td>iPhone</td>\n",
       "      <td>1.0</td>\n",
       "      <td>700.00</td>\n",
       "      <td>22</td>\n",
       "      <td>Jan</td>\n",
       "      <td>Tuesday</td>\n",
       "      <td>Boston</td>\n",
       "      <td>MA</td>\n",
       "      <td>700.00</td>\n",
       "    </tr>\n",
       "    <tr>\n",
       "      <th>1</th>\n",
       "      <td>141235</td>\n",
       "      <td>Lightning Charging Cable</td>\n",
       "      <td>1.0</td>\n",
       "      <td>14.95</td>\n",
       "      <td>28</td>\n",
       "      <td>Jan</td>\n",
       "      <td>Monday</td>\n",
       "      <td>Portland</td>\n",
       "      <td>OR</td>\n",
       "      <td>14.95</td>\n",
       "    </tr>\n",
       "    <tr>\n",
       "      <th>2</th>\n",
       "      <td>141236</td>\n",
       "      <td>Wired Headphones</td>\n",
       "      <td>2.0</td>\n",
       "      <td>11.99</td>\n",
       "      <td>17</td>\n",
       "      <td>Jan</td>\n",
       "      <td>Thursday</td>\n",
       "      <td>San Francisco</td>\n",
       "      <td>CA</td>\n",
       "      <td>23.98</td>\n",
       "    </tr>\n",
       "    <tr>\n",
       "      <th>3</th>\n",
       "      <td>141237</td>\n",
       "      <td>27in FHD Monitor</td>\n",
       "      <td>1.0</td>\n",
       "      <td>149.99</td>\n",
       "      <td>05</td>\n",
       "      <td>Jan</td>\n",
       "      <td>Saturday</td>\n",
       "      <td>Los Angeles</td>\n",
       "      <td>CA</td>\n",
       "      <td>149.99</td>\n",
       "    </tr>\n",
       "    <tr>\n",
       "      <th>4</th>\n",
       "      <td>141238</td>\n",
       "      <td>Wired Headphones</td>\n",
       "      <td>1.0</td>\n",
       "      <td>11.99</td>\n",
       "      <td>25</td>\n",
       "      <td>Jan</td>\n",
       "      <td>Friday</td>\n",
       "      <td>Austin</td>\n",
       "      <td>TX</td>\n",
       "      <td>11.99</td>\n",
       "    </tr>\n",
       "    <tr>\n",
       "      <th>...</th>\n",
       "      <td>...</td>\n",
       "      <td>...</td>\n",
       "      <td>...</td>\n",
       "      <td>...</td>\n",
       "      <td>...</td>\n",
       "      <td>...</td>\n",
       "      <td>...</td>\n",
       "      <td>...</td>\n",
       "      <td>...</td>\n",
       "      <td>...</td>\n",
       "    </tr>\n",
       "    <tr>\n",
       "      <th>186845</th>\n",
       "      <td>319666</td>\n",
       "      <td>Lightning Charging Cable</td>\n",
       "      <td>1.0</td>\n",
       "      <td>14.95</td>\n",
       "      <td>11</td>\n",
       "      <td>Dec</td>\n",
       "      <td>Wednesday</td>\n",
       "      <td>San Francisco</td>\n",
       "      <td>CA</td>\n",
       "      <td>14.95</td>\n",
       "    </tr>\n",
       "    <tr>\n",
       "      <th>186846</th>\n",
       "      <td>319667</td>\n",
       "      <td>AA Batteries (4-pack)</td>\n",
       "      <td>2.0</td>\n",
       "      <td>3.84</td>\n",
       "      <td>01</td>\n",
       "      <td>Dec</td>\n",
       "      <td>Sunday</td>\n",
       "      <td>Los Angeles</td>\n",
       "      <td>CA</td>\n",
       "      <td>7.68</td>\n",
       "    </tr>\n",
       "    <tr>\n",
       "      <th>186847</th>\n",
       "      <td>319668</td>\n",
       "      <td>Vareebadd Phone</td>\n",
       "      <td>1.0</td>\n",
       "      <td>400.00</td>\n",
       "      <td>09</td>\n",
       "      <td>Dec</td>\n",
       "      <td>Monday</td>\n",
       "      <td>Seattle</td>\n",
       "      <td>WA</td>\n",
       "      <td>400.00</td>\n",
       "    </tr>\n",
       "    <tr>\n",
       "      <th>186848</th>\n",
       "      <td>319669</td>\n",
       "      <td>Wired Headphones</td>\n",
       "      <td>1.0</td>\n",
       "      <td>11.99</td>\n",
       "      <td>03</td>\n",
       "      <td>Dec</td>\n",
       "      <td>Tuesday</td>\n",
       "      <td>Dallas</td>\n",
       "      <td>TX</td>\n",
       "      <td>11.99</td>\n",
       "    </tr>\n",
       "    <tr>\n",
       "      <th>186849</th>\n",
       "      <td>319670</td>\n",
       "      <td>Bose SoundSport Headphones</td>\n",
       "      <td>1.0</td>\n",
       "      <td>99.99</td>\n",
       "      <td>21</td>\n",
       "      <td>Dec</td>\n",
       "      <td>Saturday</td>\n",
       "      <td>Los Angeles</td>\n",
       "      <td>CA</td>\n",
       "      <td>99.99</td>\n",
       "    </tr>\n",
       "  </tbody>\n",
       "</table>\n",
       "<p>185950 rows × 10 columns</p>\n",
       "</div>"
      ],
      "text/plain": [
       "       Order_ID                     Product  Quantity_Ordered  Price_Each Day  \\\n",
       "0        141234                      iPhone               1.0      700.00  22   \n",
       "1        141235    Lightning Charging Cable               1.0       14.95  28   \n",
       "2        141236            Wired Headphones               2.0       11.99  17   \n",
       "3        141237            27in FHD Monitor               1.0      149.99  05   \n",
       "4        141238            Wired Headphones               1.0       11.99  25   \n",
       "...         ...                         ...               ...         ...  ..   \n",
       "186845   319666    Lightning Charging Cable               1.0       14.95  11   \n",
       "186846   319667       AA Batteries (4-pack)               2.0        3.84  01   \n",
       "186847   319668             Vareebadd Phone               1.0      400.00  09   \n",
       "186848   319669            Wired Headphones               1.0       11.99  03   \n",
       "186849   319670  Bose SoundSport Headphones               1.0       99.99  21   \n",
       "\n",
       "       Month  DayOfWeek            City State  Total_Price  \n",
       "0        Jan    Tuesday          Boston    MA       700.00  \n",
       "1        Jan     Monday        Portland    OR        14.95  \n",
       "2        Jan   Thursday   San Francisco    CA        23.98  \n",
       "3        Jan   Saturday     Los Angeles    CA       149.99  \n",
       "4        Jan     Friday          Austin    TX        11.99  \n",
       "...      ...        ...             ...   ...          ...  \n",
       "186845   Dec  Wednesday   San Francisco    CA        14.95  \n",
       "186846   Dec     Sunday     Los Angeles    CA         7.68  \n",
       "186847   Dec     Monday         Seattle    WA       400.00  \n",
       "186848   Dec    Tuesday          Dallas    TX        11.99  \n",
       "186849   Dec   Saturday     Los Angeles    CA        99.99  \n",
       "\n",
       "[185950 rows x 10 columns]"
      ]
     },
     "metadata": {},
     "execution_count": 82
    }
   ],
   "metadata": {}
  },
  {
   "cell_type": "markdown",
   "source": [
    "# Exploratory Analysis "
   ],
   "metadata": {}
  },
  {
   "cell_type": "markdown",
   "source": [
    "## 1) What month has the largest sales"
   ],
   "metadata": {}
  },
  {
   "cell_type": "code",
   "execution_count": 110,
   "source": [
    "df_modified.groupby('Month')['Total_Price'].sum().sort_values(ascending=False).plot(kind = 'bar', figsize=(12,6))\r\n",
    "plt.ylabel('Total sales by $Millions', fontsize=14)\r\n",
    "plt.xlabel('Months', fontsize=14)\r\n",
    "plt.xticks(rotation=0)\r\n",
    "plt.title('Total Sales Per Month', fontsize=18)\r\n",
    "print(\"The month with the largest sales is December\")"
   ],
   "outputs": [
    {
     "output_type": "stream",
     "name": "stdout",
     "text": [
      "The month with the largest sales is December\n"
     ]
    },
    {
     "output_type": "display_data",
     "data": {
      "image/png": "[encoded data removed]",
      "text/plain": [
       "<Figure size 864x432 with 1 Axes>"
      ]
     },
     "metadata": {
      "needs_background": "light"
     }
    }
   ],
   "metadata": {}
  },
  {
   "cell_type": "markdown",
   "source": [
    "## 2) What day has the most orders"
   ],
   "metadata": {}
  },
  {
   "cell_type": "code",
   "execution_count": 111,
   "source": [
    "df_modified.groupby('Day')['Quantity_Ordered'].sum().plot(kind = 'bar', figsize=(12,6))\r\n",
    "plt.ylabel('Number of orders', fontsize=14)\r\n",
    "plt.xlabel('Day', fontsize=14)\r\n",
    "plt.xticks(rotation=0)\r\n",
    "plt.title('Total orders per day', fontsize=18)\r\n",
    "print(\"There is no different between the days in orders numbers.\")"
   ],
   "outputs": [
    {
     "output_type": "stream",
     "name": "stdout",
     "text": [
      "There is no different between the days in orders numbers.\n"
     ]
    },
    {
     "output_type": "display_data",
     "data": {
      "image/png": "[encoded data removed]",
      "text/plain": [
       "<Figure size 864x432 with 1 Axes>"
      ]
     },
     "metadata": {
      "needs_background": "light"
     }
    }
   ],
   "metadata": {}
  },
  {
   "cell_type": "markdown",
   "source": [
    "## 3) What weekday has the most orders"
   ],
   "metadata": {}
  },
  {
   "cell_type": "code",
   "execution_count": 112,
   "source": [
    "df_modified.groupby('DayOfWeek')['Quantity_Ordered'].sum().sort_values(ascending=False).plot(kind = 'bar', figsize=(12,6))\r\n",
    "plt.ylabel('Number of orders', fontsize=14)\r\n",
    "plt.xlabel('Weekday', fontsize=14)\r\n",
    "plt.xticks(rotation=0)\r\n",
    "plt.title('Total orders per weekday', fontsize=18)\r\n",
    "print(\"There is no different between the weekdays.\")\r\n",
    "\r\n"
   ],
   "outputs": [
    {
     "output_type": "stream",
     "name": "stdout",
     "text": [
      "There is no different between the weekdays.\n"
     ]
    },
    {
     "output_type": "display_data",
     "data": {
      "image/png": "[encoded data removed]",
      "text/plain": [
       "<Figure size 864x432 with 1 Axes>"
      ]
     },
     "metadata": {
      "needs_background": "light"
     }
    }
   ],
   "metadata": {}
  },
  {
   "cell_type": "markdown",
   "source": [
    "## 4) What Price Range poeple tend to buy more?"
   ],
   "metadata": {}
  },
  {
   "cell_type": "code",
   "execution_count": 113,
   "source": [
    "df_modified.Price_Each.hist(figsize=(12,6), grid = False);\r\n",
    "plt.xlabel('Prices Ranges', fontsize=14);\r\n",
    "plt.ylabel('Frequency', fontsize=14);\r\n",
    "plt.title('The Range of prices people tend to buy', fontsize=18)\r\n",
    "print(\"It looks like people like to buy cheaper products more than the expensive ones\")"
   ],
   "outputs": [
    {
     "output_type": "stream",
     "name": "stdout",
     "text": [
      "It looks like people like to buy cheaper products more than the expensive ones\n"
     ]
    },
    {
     "output_type": "display_data",
     "data": {
      "image/png": "[encoded data removed]",
      "text/plain": [
       "<Figure size 864x432 with 1 Axes>"
      ]
     },
     "metadata": {
      "needs_background": "light"
     }
    }
   ],
   "metadata": {}
  },
  {
   "cell_type": "markdown",
   "source": [
    "## 5) Which State, City, and Product has the largest orders?  "
   ],
   "metadata": {}
  },
  {
   "cell_type": "code",
   "execution_count": 115,
   "source": [
    "fig = px.sunburst(df_modified, path =[\"State\",\"City\", \"Product\"], values = \"Quantity_Ordered\", width = 1000, height= 800, color_continuous_scale='Teal', color = \"Quantity_Ordered\")\r\n",
    "print(\"California is the State with the biggest orders\\nSan Francisco is the City with the biggest orders\\nBatteries are the most requested product\")\r\n",
    "fig.show()\r\n"
   ],
   "outputs": [
    {
     "output_type": "stream",
     "name": "stdout",
     "text": [
      "California is the State with the biggest orders\n",
      "San Francisco is the City with the biggest orders\n",
      "Batteries are the most requested product\n"
     ]
    },
    {
     "output_type": "display_data",
     "data": {
      "application/vnd.plotly.v1+json": {
       "config": {
        "plotlyServerURL": "https://plot.ly"
       },
       "data": [
        {
         "branchvalues": "total",
         "customdata": [
          [
           1.023391812865497
          ],
          [
           1.017391304347826
          ],
          [
           1
          ],
          [
           1.0174927113702623
          ],
          [
           1.012158054711246
          ],
          [
           1.0178571428571428
          ],
          [
           1
          ],
          [
           1.0091324200913243
          ],
          [
           1.014
          ],
          [
           1.0123456790123457
          ],
          [
           1.0040567951318458
          ],
          [
           1
          ],
          [
           1.005925925925926
          ],
          [
           1.0083160083160083
          ],
          [
           1
          ],
          [
           1.004750593824228
          ],
          [
           1
          ],
          [
           1.005730659025788
          ],
          [
           1.0054794520547945
          ],
          [
           1.0074349442379182
          ],
          [
           1.0136054421768708
          ],
          [
           1.0222222222222221
          ],
          [
           1.0100376411543288
          ],
          [
           1.0238500851788757
          ],
          [
           1.0098119378577268
          ],
          [
           1.0055970149253732
          ],
          [
           1
          ],
          [
           1.0096153846153846
          ],
          [
           1.0121278941565601
          ],
          [
           1.0069084628670122
          ],
          [
           1.016597510373444
          ],
          [
           1
          ],
          [
           1.0059612518628913
          ],
          [
           1.00390625
          ],
          [
           1.0041884816753928
          ],
          [
           1.0069124423963134
          ],
          [
           1
          ],
          [
           1.0061162079510704
          ],
          [
           1.0055325034578146
          ],
          [
           1.00374531835206
          ],
          [
           1.630186958504332
          ],
          [
           1.6306179775280898
          ],
          [
           1.7042440318302388
          ],
          [
           1.6908447589562141
          ],
          [
           1.6953582694907616
          ],
          [
           1.70633608815427
          ],
          [
           1.6066838046272494
          ],
          [
           1.727741935483871
          ],
          [
           1.682837528604119
          ],
          [
           1.6581000458926114
          ],
          [
           1.9529461636286563
          ],
          [
           2.0347721822541964
          ],
          [
           2.030915920254262
          ],
          [
           2.0439297124600637
          ],
          [
           1.998188041071069
          ],
          [
           1.9641125121241514
          ],
          [
           1.9776536312849162
          ],
          [
           2.052264808362369
          ],
          [
           2.0145788336933044
          ],
          [
           1.9901880621422732
          ],
          [
           1.004739336492891
          ],
          [
           1.0112739571589628
          ],
          [
           1.014519056261343
          ],
          [
           1.0117252931323284
          ],
          [
           1.0169834209462192
          ],
          [
           1.0181124880838894
          ],
          [
           1.0429184549356223
          ],
          [
           1.0115473441108545
          ],
          [
           1.0150013394053041
          ],
          [
           1.012718600953895
          ],
          [
           1.0129151291512914
          ],
          [
           1.0367751060820367
          ],
          [
           1.0197740112994351
          ],
          [
           1.0150517403574788
          ],
          [
           1.0254117647058822
          ],
          [
           1.0256410256410255
          ],
          [
           1.0222222222222221
          ],
          [
           1.0112834978843441
          ],
          [
           1.0186915887850467
          ],
          [
           1.009416195856874
          ],
          [
           1.00982800982801
          ],
          [
           1
          ],
          [
           1.0108303249097472
          ],
          [
           1.0047619047619047
          ],
          [
           1.0082530949105915
          ],
          [
           1.0095541401273886
          ],
          [
           1
          ],
          [
           1.008
          ],
          [
           1.0086655112651646
          ],
          [
           1.0053333333333334
          ],
          [
           1
          ],
          [
           1
          ],
          [
           1.0033726812816188
          ],
          [
           1
          ],
          [
           1.0070754716981132
          ],
          [
           1
          ],
          [
           1
          ],
          [
           1
          ],
          [
           1.004418262150221
          ],
          [
           1
          ],
          [
           1
          ],
          [
           1
          ],
          [
           1
          ],
          [
           1
          ],
          [
           1
          ],
          [
           1
          ],
          [
           1
          ],
          [
           1
          ],
          [
           1
          ],
          [
           1
          ],
          [
           1
          ],
          [
           1
          ],
          [
           1
          ],
          [
           1
          ],
          [
           1
          ],
          [
           1
          ],
          [
           1
          ],
          [
           1
          ],
          [
           1
          ],
          [
           1
          ],
          [
           1.1447578499201703
          ],
          [
           1.1346595256312166
          ],
          [
           1.1477318346045764
          ],
          [
           1.167381974248927
          ],
          [
           1.147932131495228
          ],
          [
           1.1243012167050312
          ],
          [
           1.104089219330855
          ],
          [
           1.1362916006339143
          ],
          [
           1.1500809789454742
          ],
          [
           1.144225352112676
          ],
          [
           1
          ],
          [
           1
          ],
          [
           1.0041753653444676
          ],
          [
           1
          ],
          [
           1
          ],
          [
           1.0030441400304415
          ],
          [
           1
          ],
          [
           1
          ],
          [
           1.0035211267605635
          ],
          [
           1
          ],
          [
           1
          ],
          [
           1
          ],
          [
           1.0044742729306488
          ],
          [
           1
          ],
          [
           1
          ],
          [
           1.0035714285714286
          ],
          [
           1
          ],
          [
           1
          ],
          [
           1
          ],
          [
           1
          ],
          [
           1.1691906005221933
          ],
          [
           1.1822541966426858
          ],
          [
           1.198360015618899
          ],
          [
           1.187904967602592
          ],
          [
           1.1914331041776838
          ],
          [
           1.1988375650045886
          ],
          [
           1.1764705882352942
          ],
          [
           1.1594202898550725
          ],
          [
           1.1940956905327451
          ],
          [
           1.202247191011236
          ],
          [
           1
          ],
          [
           1
          ],
          [
           1
          ],
          [
           1
          ],
          [
           1
          ],
          [
           1.0142348754448398
          ],
          [
           1
          ],
          [
           1
          ],
          [
           1.0040485829959513
          ],
          [
           1
          ],
          [
           1.1912602913236225
          ],
          [
           1.2123893805309736
          ],
          [
           1.18991899189919
          ],
          [
           1.2037147992810067
          ],
          [
           1.1504587155963302
          ],
          [
           1.1780568895456225
          ],
          [
           1.2222222222222223
          ],
          [
           1.188365650969529
          ],
          [
           1.1651228352799032
          ],
          [
           1.1937046004842615
          ],
          [
           1.0073529411764706
          ],
          [
           1
          ],
          [
           1.00265604249668
          ],
          [
           1
          ],
          [
           1.0017889087656529
          ],
          [
           1
          ],
          [
           1
          ],
          [
           1.005390835579515
          ],
          [
           1.0012040939193256
          ],
          [
           1.0036630036630036
          ],
          [
           1.275990844476569
          ],
          [
           1.2973191069667354
          ],
          [
           1.3139204545454546
          ],
          [
           1.3128511655708308
          ],
          [
           1.2989576136261227
          ],
          [
           1.2926392667907776
          ],
          [
           1.2727272727272727
          ],
          [
           1.3137220207024685
          ],
          [
           1.2982543442345589
          ],
          [
           1.293239896091343
          ],
          [
           1.2985346231203907
          ],
          [
           1.275990844476569
          ],
          [
           1.3139204545454546
          ],
          [
           1.2727272727272727
          ],
          [
           1.2926392667907776
          ],
          [
           1.3137220207024685
          ],
          [
           1.306638453537998
          ],
          [
           1.293239896091343
          ]
         ],
         "domain": {
          "x": [
           0,
           1
          ],
          "y": [
           0,
           1
          ]
         },
         "hovertemplate": "labels=%{label}<br>Quantity_Ordered_sum=%{value}<br>parent=%{parent}<br>id=%{id}<br>Quantity_Ordered=%{color}<extra></extra>",
         "ids": [
          "GA/ Atlanta/20in Monitor",
          "TX/ Austin/20in Monitor",
          "MA/ Boston/20in Monitor",
          "TX/ Dallas/20in Monitor",
          "CA/ Los Angeles/20in Monitor",
          "NY/ New York City/20in Monitor",
          "ME/ Portland/20in Monitor",
          "OR/ Portland/20in Monitor",
          "CA/ San Francisco/20in Monitor",
          "WA/ Seattle/20in Monitor",
          "GA/ Atlanta/27in 4K Gaming Monitor",
          "TX/ Austin/27in 4K Gaming Monitor",
          "MA/ Boston/27in 4K Gaming Monitor",
          "TX/ Dallas/27in 4K Gaming Monitor",
          "CA/ Los Angeles/27in 4K Gaming Monitor",
          "NY/ New York City/27in 4K Gaming Monitor",
          "ME/ Portland/27in 4K Gaming Monitor",
          "OR/ Portland/27in 4K Gaming Monitor",
          "CA/ San Francisco/27in 4K Gaming Monitor",
          "WA/ Seattle/27in 4K Gaming Monitor",
          "GA/ Atlanta/27in FHD Monitor",
          "TX/ Austin/27in FHD Monitor",
          "MA/ Boston/27in FHD Monitor",
          "TX/ Dallas/27in FHD Monitor",
          "CA/ Los Angeles/27in FHD Monitor",
          "NY/ New York City/27in FHD Monitor",
          "ME/ Portland/27in FHD Monitor",
          "OR/ Portland/27in FHD Monitor",
          "CA/ San Francisco/27in FHD Monitor",
          "WA/ Seattle/27in FHD Monitor",
          "GA/ Atlanta/34in Ultrawide Monitor",
          "TX/ Austin/34in Ultrawide Monitor",
          "MA/ Boston/34in Ultrawide Monitor",
          "TX/ Dallas/34in Ultrawide Monitor",
          "CA/ Los Angeles/34in Ultrawide Monitor",
          "NY/ New York City/34in Ultrawide Monitor",
          "ME/ Portland/34in Ultrawide Monitor",
          "OR/ Portland/34in Ultrawide Monitor",
          "CA/ San Francisco/34in Ultrawide Monitor",
          "WA/ Seattle/34in Ultrawide Monitor",
          "GA/ Atlanta/AA Batteries (4-pack)",
          "TX/ Austin/AA Batteries (4-pack)",
          "MA/ Boston/AA Batteries (4-pack)",
          "TX/ Dallas/AA Batteries (4-pack)",
          "CA/ Los Angeles/AA Batteries (4-pack)",
          "NY/ New York City/AA Batteries (4-pack)",
          "ME/ Portland/AA Batteries (4-pack)",
          "OR/ Portland/AA Batteries (4-pack)",
          "CA/ San Francisco/AA Batteries (4-pack)",
          "WA/ Seattle/AA Batteries (4-pack)",
          "GA/ Atlanta/AAA Batteries (4-pack)",
          "TX/ Austin/AAA Batteries (4-pack)",
          "MA/ Boston/AAA Batteries (4-pack)",
          "TX/ Dallas/AAA Batteries (4-pack)",
          "CA/ Los Angeles/AAA Batteries (4-pack)",
          "NY/ New York City/AAA Batteries (4-pack)",
          "ME/ Portland/AAA Batteries (4-pack)",
          "OR/ Portland/AAA Batteries (4-pack)",
          "CA/ San Francisco/AAA Batteries (4-pack)",
          "WA/ Seattle/AAA Batteries (4-pack)",
          "GA/ Atlanta/Apple Airpods Headphones",
          "TX/ Austin/Apple Airpods Headphones",
          "MA/ Boston/Apple Airpods Headphones",
          "TX/ Dallas/Apple Airpods Headphones",
          "CA/ Los Angeles/Apple Airpods Headphones",
          "NY/ New York City/Apple Airpods Headphones",
          "ME/ Portland/Apple Airpods Headphones",
          "OR/ Portland/Apple Airpods Headphones",
          "CA/ San Francisco/Apple Airpods Headphones",
          "WA/ Seattle/Apple Airpods Headphones",
          "GA/ Atlanta/Bose SoundSport Headphones",
          "TX/ Austin/Bose SoundSport Headphones",
          "MA/ Boston/Bose SoundSport Headphones",
          "TX/ Dallas/Bose SoundSport Headphones",
          "CA/ Los Angeles/Bose SoundSport Headphones",
          "NY/ New York City/Bose SoundSport Headphones",
          "ME/ Portland/Bose SoundSport Headphones",
          "OR/ Portland/Bose SoundSport Headphones",
          "CA/ San Francisco/Bose SoundSport Headphones",
          "WA/ Seattle/Bose SoundSport Headphones",
          "GA/ Atlanta/Flatscreen TV",
          "TX/ Austin/Flatscreen TV",
          "MA/ Boston/Flatscreen TV",
          "TX/ Dallas/Flatscreen TV",
          "CA/ Los Angeles/Flatscreen TV",
          "NY/ New York City/Flatscreen TV",
          "ME/ Portland/Flatscreen TV",
          "OR/ Portland/Flatscreen TV",
          "CA/ San Francisco/Flatscreen TV",
          "WA/ Seattle/Flatscreen TV",
          "GA/ Atlanta/Google Phone",
          "TX/ Austin/Google Phone",
          "MA/ Boston/Google Phone",
          "TX/ Dallas/Google Phone",
          "CA/ Los Angeles/Google Phone",
          "NY/ New York City/Google Phone",
          "ME/ Portland/Google Phone",
          "OR/ Portland/Google Phone",
          "CA/ San Francisco/Google Phone",
          "WA/ Seattle/Google Phone",
          "GA/ Atlanta/LG Dryer",
          "TX/ Austin/LG Dryer",
          "MA/ Boston/LG Dryer",
          "TX/ Dallas/LG Dryer",
          "CA/ Los Angeles/LG Dryer",
          "NY/ New York City/LG Dryer",
          "ME/ Portland/LG Dryer",
          "OR/ Portland/LG Dryer",
          "CA/ San Francisco/LG Dryer",
          "WA/ Seattle/LG Dryer",
          "GA/ Atlanta/LG Washing Machine",
          "TX/ Austin/LG Washing Machine",
          "MA/ Boston/LG Washing Machine",
          "TX/ Dallas/LG Washing Machine",
          "CA/ Los Angeles/LG Washing Machine",
          "NY/ New York City/LG Washing Machine",
          "ME/ Portland/LG Washing Machine",
          "OR/ Portland/LG Washing Machine",
          "CA/ San Francisco/LG Washing Machine",
          "WA/ Seattle/LG Washing Machine",
          "GA/ Atlanta/Lightning Charging Cable",
          "TX/ Austin/Lightning Charging Cable",
          "MA/ Boston/Lightning Charging Cable",
          "TX/ Dallas/Lightning Charging Cable",
          "CA/ Los Angeles/Lightning Charging Cable",
          "NY/ New York City/Lightning Charging Cable",
          "ME/ Portland/Lightning Charging Cable",
          "OR/ Portland/Lightning Charging Cable",
          "CA/ San Francisco/Lightning Charging Cable",
          "WA/ Seattle/Lightning Charging Cable",
          "GA/ Atlanta/Macbook Pro Laptop",
          "TX/ Austin/Macbook Pro Laptop",
          "MA/ Boston/Macbook Pro Laptop",
          "TX/ Dallas/Macbook Pro Laptop",
          "CA/ Los Angeles/Macbook Pro Laptop",
          "NY/ New York City/Macbook Pro Laptop",
          "ME/ Portland/Macbook Pro Laptop",
          "OR/ Portland/Macbook Pro Laptop",
          "CA/ San Francisco/Macbook Pro Laptop",
          "WA/ Seattle/Macbook Pro Laptop",
          "GA/ Atlanta/ThinkPad Laptop",
          "TX/ Austin/ThinkPad Laptop",
          "MA/ Boston/ThinkPad Laptop",
          "TX/ Dallas/ThinkPad Laptop",
          "CA/ Los Angeles/ThinkPad Laptop",
          "NY/ New York City/ThinkPad Laptop",
          "ME/ Portland/ThinkPad Laptop",
          "OR/ Portland/ThinkPad Laptop",
          "CA/ San Francisco/ThinkPad Laptop",
          "WA/ Seattle/ThinkPad Laptop",
          "GA/ Atlanta/USB-C Charging Cable",
          "TX/ Austin/USB-C Charging Cable",
          "MA/ Boston/USB-C Charging Cable",
          "TX/ Dallas/USB-C Charging Cable",
          "CA/ Los Angeles/USB-C Charging Cable",
          "NY/ New York City/USB-C Charging Cable",
          "ME/ Portland/USB-C Charging Cable",
          "OR/ Portland/USB-C Charging Cable",
          "CA/ San Francisco/USB-C Charging Cable",
          "WA/ Seattle/USB-C Charging Cable",
          "GA/ Atlanta/Vareebadd Phone",
          "TX/ Austin/Vareebadd Phone",
          "MA/ Boston/Vareebadd Phone",
          "TX/ Dallas/Vareebadd Phone",
          "CA/ Los Angeles/Vareebadd Phone",
          "NY/ New York City/Vareebadd Phone",
          "ME/ Portland/Vareebadd Phone",
          "OR/ Portland/Vareebadd Phone",
          "CA/ San Francisco/Vareebadd Phone",
          "WA/ Seattle/Vareebadd Phone",
          "GA/ Atlanta/Wired Headphones",
          "TX/ Austin/Wired Headphones",
          "MA/ Boston/Wired Headphones",
          "TX/ Dallas/Wired Headphones",
          "CA/ Los Angeles/Wired Headphones",
          "NY/ New York City/Wired Headphones",
          "ME/ Portland/Wired Headphones",
          "OR/ Portland/Wired Headphones",
          "CA/ San Francisco/Wired Headphones",
          "WA/ Seattle/Wired Headphones",
          "GA/ Atlanta/iPhone",
          "TX/ Austin/iPhone",
          "MA/ Boston/iPhone",
          "TX/ Dallas/iPhone",
          "CA/ Los Angeles/iPhone",
          "NY/ New York City/iPhone",
          "ME/ Portland/iPhone",
          "OR/ Portland/iPhone",
          "CA/ San Francisco/iPhone",
          "WA/ Seattle/iPhone",
          "GA/ Atlanta",
          "TX/ Austin",
          "MA/ Boston",
          "TX/ Dallas",
          "CA/ Los Angeles",
          "NY/ New York City",
          "ME/ Portland",
          "OR/ Portland",
          "CA/ San Francisco",
          "WA/ Seattle",
          "CA",
          "GA",
          "MA",
          "ME",
          "NY",
          "OR",
          "TX",
          "WA"
         ],
         "labels": [
          "20in Monitor",
          "20in Monitor",
          "20in Monitor",
          "20in Monitor",
          "20in Monitor",
          "20in Monitor",
          "20in Monitor",
          "20in Monitor",
          "20in Monitor",
          "20in Monitor",
          "27in 4K Gaming Monitor",
          "27in 4K Gaming Monitor",
          "27in 4K Gaming Monitor",
          "27in 4K Gaming Monitor",
          "27in 4K Gaming Monitor",
          "27in 4K Gaming Monitor",
          "27in 4K Gaming Monitor",
          "27in 4K Gaming Monitor",
          "27in 4K Gaming Monitor",
          "27in 4K Gaming Monitor",
          "27in FHD Monitor",
          "27in FHD Monitor",
          "27in FHD Monitor",
          "27in FHD Monitor",
          "27in FHD Monitor",
          "27in FHD Monitor",
          "27in FHD Monitor",
          "27in FHD Monitor",
          "27in FHD Monitor",
          "27in FHD Monitor",
          "34in Ultrawide Monitor",
          "34in Ultrawide Monitor",
          "34in Ultrawide Monitor",
          "34in Ultrawide Monitor",
          "34in Ultrawide Monitor",
          "34in Ultrawide Monitor",
          "34in Ultrawide Monitor",
          "34in Ultrawide Monitor",
          "34in Ultrawide Monitor",
          "34in Ultrawide Monitor",
          "AA Batteries (4-pack)",
          "AA Batteries (4-pack)",
          "AA Batteries (4-pack)",
          "AA Batteries (4-pack)",
          "AA Batteries (4-pack)",
          "AA Batteries (4-pack)",
          "AA Batteries (4-pack)",
          "AA Batteries (4-pack)",
          "AA Batteries (4-pack)",
          "AA Batteries (4-pack)",
          "AAA Batteries (4-pack)",
          "AAA Batteries (4-pack)",
          "AAA Batteries (4-pack)",
          "AAA Batteries (4-pack)",
          "AAA Batteries (4-pack)",
          "AAA Batteries (4-pack)",
          "AAA Batteries (4-pack)",
          "AAA Batteries (4-pack)",
          "AAA Batteries (4-pack)",
          "AAA Batteries (4-pack)",
          "Apple Airpods Headphones",
          "Apple Airpods Headphones",
          "Apple Airpods Headphones",
          "Apple Airpods Headphones",
          "Apple Airpods Headphones",
          "Apple Airpods Headphones",
          "Apple Airpods Headphones",
          "Apple Airpods Headphones",
          "Apple Airpods Headphones",
          "Apple Airpods Headphones",
          "Bose SoundSport Headphones",
          "Bose SoundSport Headphones",
          "Bose SoundSport Headphones",
          "Bose SoundSport Headphones",
          "Bose SoundSport Headphones",
          "Bose SoundSport Headphones",
          "Bose SoundSport Headphones",
          "Bose SoundSport Headphones",
          "Bose SoundSport Headphones",
          "Bose SoundSport Headphones",
          "Flatscreen TV",
          "Flatscreen TV",
          "Flatscreen TV",
          "Flatscreen TV",
          "Flatscreen TV",
          "Flatscreen TV",
          "Flatscreen TV",
          "Flatscreen TV",
          "Flatscreen TV",
          "Flatscreen TV",
          "Google Phone",
          "Google Phone",
          "Google Phone",
          "Google Phone",
          "Google Phone",
          "Google Phone",
          "Google Phone",
          "Google Phone",
          "Google Phone",
          "Google Phone",
          "LG Dryer",
          "LG Dryer",
          "LG Dryer",
          "LG Dryer",
          "LG Dryer",
          "LG Dryer",
          "LG Dryer",
          "LG Dryer",
          "LG Dryer",
          "LG Dryer",
          "LG Washing Machine",
          "LG Washing Machine",
          "LG Washing Machine",
          "LG Washing Machine",
          "LG Washing Machine",
          "LG Washing Machine",
          "LG Washing Machine",
          "LG Washing Machine",
          "LG Washing Machine",
          "LG Washing Machine",
          "Lightning Charging Cable",
          "Lightning Charging Cable",
          "Lightning Charging Cable",
          "Lightning Charging Cable",
          "Lightning Charging Cable",
          "Lightning Charging Cable",
          "Lightning Charging Cable",
          "Lightning Charging Cable",
          "Lightning Charging Cable",
          "Lightning Charging Cable",
          "Macbook Pro Laptop",
          "Macbook Pro Laptop",
          "Macbook Pro Laptop",
          "Macbook Pro Laptop",
          "Macbook Pro Laptop",
          "Macbook Pro Laptop",
          "Macbook Pro Laptop",
          "Macbook Pro Laptop",
          "Macbook Pro Laptop",
          "Macbook Pro Laptop",
          "ThinkPad Laptop",
          "ThinkPad Laptop",
          "ThinkPad Laptop",
          "ThinkPad Laptop",
          "ThinkPad Laptop",
          "ThinkPad Laptop",
          "ThinkPad Laptop",
          "ThinkPad Laptop",
          "ThinkPad Laptop",
          "ThinkPad Laptop",
          "USB-C Charging Cable",
          "USB-C Charging Cable",
          "USB-C Charging Cable",
          "USB-C Charging Cable",
          "USB-C Charging Cable",
          "USB-C Charging Cable",
          "USB-C Charging Cable",
          "USB-C Charging Cable",
          "USB-C Charging Cable",
          "USB-C Charging Cable",
          "Vareebadd Phone",
          "Vareebadd Phone",
          "Vareebadd Phone",
          "Vareebadd Phone",
          "Vareebadd Phone",
          "Vareebadd Phone",
          "Vareebadd Phone",
          "Vareebadd Phone",
          "Vareebadd Phone",
          "Vareebadd Phone",
          "Wired Headphones",
          "Wired Headphones",
          "Wired Headphones",
          "Wired Headphones",
          "Wired Headphones",
          "Wired Headphones",
          "Wired Headphones",
          "Wired Headphones",
          "Wired Headphones",
          "Wired Headphones",
          "iPhone",
          "iPhone",
          "iPhone",
          "iPhone",
          "iPhone",
          "iPhone",
          "iPhone",
          "iPhone",
          "iPhone",
          "iPhone",
          " Atlanta",
          " Austin",
          " Boston",
          " Dallas",
          " Los Angeles",
          " New York City",
          " Portland",
          " Portland",
          " San Francisco",
          " Seattle",
          "CA",
          "GA",
          "MA",
          "ME",
          "NY",
          "OR",
          "TX",
          "WA"
         ],
         "marker": {
          "coloraxis": "coloraxis",
          "colors": [
           1.023391812865497,
           1.017391304347826,
           1,
           1.0174927113702623,
           1.012158054711246,
           1.0178571428571428,
           1,
           1.0091324200913243,
           1.014,
           1.0123456790123457,
           1.0040567951318458,
           1,
           1.005925925925926,
           1.0083160083160083,
           1,
           1.004750593824228,
           1,
           1.005730659025788,
           1.0054794520547945,
           1.0074349442379182,
           1.0136054421768708,
           1.0222222222222221,
           1.0100376411543288,
           1.0238500851788757,
           1.0098119378577268,
           1.0055970149253732,
           1,
           1.0096153846153846,
           1.0121278941565601,
           1.0069084628670122,
           1.016597510373444,
           1,
           1.0059612518628913,
           1.00390625,
           1.0041884816753928,
           1.0069124423963134,
           1,
           1.0061162079510704,
           1.0055325034578146,
           1.00374531835206,
           1.630186958504332,
           1.6306179775280898,
           1.7042440318302388,
           1.6908447589562141,
           1.6953582694907616,
           1.70633608815427,
           1.6066838046272494,
           1.727741935483871,
           1.682837528604119,
           1.6581000458926114,
           1.9529461636286563,
           2.0347721822541964,
           2.030915920254262,
           2.0439297124600637,
           1.998188041071069,
           1.9641125121241514,
           1.9776536312849162,
           2.052264808362369,
           2.0145788336933044,
           1.9901880621422732,
           1.004739336492891,
           1.0112739571589628,
           1.014519056261343,
           1.0117252931323284,
           1.0169834209462192,
           1.0181124880838894,
           1.0429184549356223,
           1.0115473441108545,
           1.0150013394053041,
           1.012718600953895,
           1.0129151291512914,
           1.0367751060820367,
           1.0197740112994351,
           1.0150517403574788,
           1.0254117647058822,
           1.0256410256410255,
           1.0222222222222221,
           1.0112834978843441,
           1.0186915887850467,
           1.009416195856874,
           1.00982800982801,
           1,
           1.0108303249097472,
           1.0047619047619047,
           1.0082530949105915,
           1.0095541401273886,
           1,
           1.008,
           1.0086655112651646,
           1.0053333333333334,
           1,
           1,
           1.0033726812816188,
           1,
           1.0070754716981132,
           1,
           1,
           1,
           1.004418262150221,
           1,
           1,
           1,
           1,
           1,
           1,
           1,
           1,
           1,
           1,
           1,
           1,
           1,
           1,
           1,
           1,
           1,
           1,
           1,
           1,
           1,
           1.1447578499201703,
           1.1346595256312166,
           1.1477318346045764,
           1.167381974248927,
           1.147932131495228,
           1.1243012167050312,
           1.104089219330855,
           1.1362916006339143,
           1.1500809789454742,
           1.144225352112676,
           1,
           1,
           1.0041753653444676,
           1,
           1,
           1.0030441400304415,
           1,
           1,
           1.0035211267605635,
           1,
           1,
           1,
           1.0044742729306488,
           1,
           1,
           1.0035714285714286,
           1,
           1,
           1,
           1,
           1.1691906005221933,
           1.1822541966426858,
           1.198360015618899,
           1.187904967602592,
           1.1914331041776838,
           1.1988375650045886,
           1.1764705882352942,
           1.1594202898550725,
           1.1940956905327451,
           1.202247191011236,
           1,
           1,
           1,
           1,
           1,
           1.0142348754448398,
           1,
           1,
           1.0040485829959513,
           1,
           1.1912602913236225,
           1.2123893805309736,
           1.18991899189919,
           1.2037147992810067,
           1.1504587155963302,
           1.1780568895456225,
           1.2222222222222223,
           1.188365650969529,
           1.1651228352799032,
           1.1937046004842615,
           1.0073529411764706,
           1,
           1.00265604249668,
           1,
           1.0017889087656529,
           1,
           1,
           1.005390835579515,
           1.0012040939193256,
           1.0036630036630036,
           1.275990844476569,
           1.2973191069667354,
           1.3139204545454546,
           1.3128511655708308,
           1.2989576136261227,
           1.2926392667907776,
           1.2727272727272727,
           1.3137220207024685,
           1.2982543442345589,
           1.293239896091343,
           1.2985346231203907,
           1.275990844476569,
           1.3139204545454546,
           1.2727272727272727,
           1.2926392667907776,
           1.3137220207024685,
           1.306638453537998,
           1.293239896091343
          ]
         },
         "name": "",
         "parents": [
          "GA/ Atlanta",
          "TX/ Austin",
          "MA/ Boston",
          "TX/ Dallas",
          "CA/ Los Angeles",
          "NY/ New York City",
          "ME/ Portland",
          "OR/ Portland",
          "CA/ San Francisco",
          "WA/ Seattle",
          "GA/ Atlanta",
          "TX/ Austin",
          "MA/ Boston",
          "TX/ Dallas",
          "CA/ Los Angeles",
          "NY/ New York City",
          "ME/ Portland",
          "OR/ Portland",
          "CA/ San Francisco",
          "WA/ Seattle",
          "GA/ Atlanta",
          "TX/ Austin",
          "MA/ Boston",
          "TX/ Dallas",
          "CA/ Los Angeles",
          "NY/ New York City",
          "ME/ Portland",
          "OR/ Portland",
          "CA/ San Francisco",
          "WA/ Seattle",
          "GA/ Atlanta",
          "TX/ Austin",
          "MA/ Boston",
          "TX/ Dallas",
          "CA/ Los Angeles",
          "NY/ New York City",
          "ME/ Portland",
          "OR/ Portland",
          "CA/ San Francisco",
          "WA/ Seattle",
          "GA/ Atlanta",
          "TX/ Austin",
          "MA/ Boston",
          "TX/ Dallas",
          "CA/ Los Angeles",
          "NY/ New York City",
          "ME/ Portland",
          "OR/ Portland",
          "CA/ San Francisco",
          "WA/ Seattle",
          "GA/ Atlanta",
          "TX/ Austin",
          "MA/ Boston",
          "TX/ Dallas",
          "CA/ Los Angeles",
          "NY/ New York City",
          "ME/ Portland",
          "OR/ Portland",
          "CA/ San Francisco",
          "WA/ Seattle",
          "GA/ Atlanta",
          "TX/ Austin",
          "MA/ Boston",
          "TX/ Dallas",
          "CA/ Los Angeles",
          "NY/ New York City",
          "ME/ Portland",
          "OR/ Portland",
          "CA/ San Francisco",
          "WA/ Seattle",
          "GA/ Atlanta",
          "TX/ Austin",
          "MA/ Boston",
          "TX/ Dallas",
          "CA/ Los Angeles",
          "NY/ New York City",
          "ME/ Portland",
          "OR/ Portland",
          "CA/ San Francisco",
          "WA/ Seattle",
          "GA/ Atlanta",
          "TX/ Austin",
          "MA/ Boston",
          "TX/ Dallas",
          "CA/ Los Angeles",
          "NY/ New York City",
          "ME/ Portland",
          "OR/ Portland",
          "CA/ San Francisco",
          "WA/ Seattle",
          "GA/ Atlanta",
          "TX/ Austin",
          "MA/ Boston",
          "TX/ Dallas",
          "CA/ Los Angeles",
          "NY/ New York City",
          "ME/ Portland",
          "OR/ Portland",
          "CA/ San Francisco",
          "WA/ Seattle",
          "GA/ Atlanta",
          "TX/ Austin",
          "MA/ Boston",
          "TX/ Dallas",
          "CA/ Los Angeles",
          "NY/ New York City",
          "ME/ Portland",
          "OR/ Portland",
          "CA/ San Francisco",
          "WA/ Seattle",
          "GA/ Atlanta",
          "TX/ Austin",
          "MA/ Boston",
          "TX/ Dallas",
          "CA/ Los Angeles",
          "NY/ New York City",
          "ME/ Portland",
          "OR/ Portland",
          "CA/ San Francisco",
          "WA/ Seattle",
          "GA/ Atlanta",
          "TX/ Austin",
          "MA/ Boston",
          "TX/ Dallas",
          "CA/ Los Angeles",
          "NY/ New York City",
          "ME/ Portland",
          "OR/ Portland",
          "CA/ San Francisco",
          "WA/ Seattle",
          "GA/ Atlanta",
          "TX/ Austin",
          "MA/ Boston",
          "TX/ Dallas",
          "CA/ Los Angeles",
          "NY/ New York City",
          "ME/ Portland",
          "OR/ Portland",
          "CA/ San Francisco",
          "WA/ Seattle",
          "GA/ Atlanta",
          "TX/ Austin",
          "MA/ Boston",
          "TX/ Dallas",
          "CA/ Los Angeles",
          "NY/ New York City",
          "ME/ Portland",
          "OR/ Portland",
          "CA/ San Francisco",
          "WA/ Seattle",
          "GA/ Atlanta",
          "TX/ Austin",
          "MA/ Boston",
          "TX/ Dallas",
          "CA/ Los Angeles",
          "NY/ New York City",
          "ME/ Portland",
          "OR/ Portland",
          "CA/ San Francisco",
          "WA/ Seattle",
          "GA/ Atlanta",
          "TX/ Austin",
          "MA/ Boston",
          "TX/ Dallas",
          "CA/ Los Angeles",
          "NY/ New York City",
          "ME/ Portland",
          "OR/ Portland",
          "CA/ San Francisco",
          "WA/ Seattle",
          "GA/ Atlanta",
          "TX/ Austin",
          "MA/ Boston",
          "TX/ Dallas",
          "CA/ Los Angeles",
          "NY/ New York City",
          "ME/ Portland",
          "OR/ Portland",
          "CA/ San Francisco",
          "WA/ Seattle",
          "GA/ Atlanta",
          "TX/ Austin",
          "MA/ Boston",
          "TX/ Dallas",
          "CA/ Los Angeles",
          "NY/ New York City",
          "ME/ Portland",
          "OR/ Portland",
          "CA/ San Francisco",
          "WA/ Seattle",
          "GA",
          "TX",
          "MA",
          "TX",
          "CA",
          "NY",
          "ME",
          "OR",
          "CA",
          "WA",
          "",
          "",
          "",
          "",
          "",
          "",
          "",
          ""
         ],
         "type": "sunburst",
         "values": [
          342,
          230,
          394,
          343,
          658,
          560,
          59,
          219,
          1000,
          324,
          493,
          318,
          675,
          481,
          1003,
          842,
          85,
          349,
          1460,
          538,
          588,
          360,
          797,
          587,
          1223,
          1072,
          114,
          416,
          1814,
          579,
          482,
          328,
          671,
          512,
          955,
          868,
          76,
          327,
          1446,
          534,
          2193,
          1424,
          3016,
          2261,
          4438,
          3630,
          389,
          1550,
          6555,
          2179,
          2359,
          1668,
          3461,
          2504,
          4967,
          4124,
          358,
          1722,
          7408,
          2446,
          1266,
          887,
          1653,
          1194,
          2473,
          2098,
          233,
          866,
          3733,
          1258,
          1084,
          707,
          1416,
          1063,
          2125,
          1794,
          180,
          709,
          3317,
          1062,
          407,
          242,
          554,
          420,
          727,
          628,
          62,
          250,
          1154,
          375,
          451,
          274,
          593,
          461,
          848,
          758,
          77,
          278,
          1358,
          434,
          59,
          55,
          59,
          44,
          116,
          77,
          6,
          31,
          143,
          56,
          52,
          26,
          72,
          51,
          105,
          85,
          11,
          26,
          180,
          58,
          1879,
          1307,
          2491,
          1864,
          3772,
          3041,
          269,
          1262,
          5557,
          1775,
          379,
          251,
          479,
          382,
          751,
          657,
          63,
          274,
          1136,
          356,
          357,
          210,
          447,
          345,
          641,
          560,
          53,
          221,
          963,
          333,
          1915,
          1251,
          2561,
          1852,
          3782,
          3269,
          340,
          1242,
          5894,
          1869,
          173,
          108,
          214,
          178,
          317,
          281,
          17,
          107,
          494,
          179,
          1579,
          1130,
          2222,
          1669,
          3270,
          2707,
          279,
          1083,
          4966,
          1652,
          544,
          377,
          753,
          519,
          1118,
          881,
          79,
          371,
          1661,
          546,
          16602,
          11153,
          22528,
          16730,
          33289,
          27932,
          2750,
          11303,
          50239,
          16553,
          83528,
          16602,
          22528,
          2750,
          27932,
          11303,
          27883,
          16553
         ]
        }
       ],
       "layout": {
        "coloraxis": {
         "colorbar": {
          "title": {
           "text": "Quantity_Ordered"
          }
         },
         "colorscale": [
          [
           0,
           "rgb(209, 238, 234)"
          ],
          [
           0.16666666666666666,
           "rgb(168, 219, 217)"
          ],
          [
           0.3333333333333333,
           "rgb(133, 196, 201)"
          ],
          [
           0.5,
           "rgb(104, 171, 184)"
          ],
          [
           0.6666666666666666,
           "rgb(79, 144, 166)"
          ],
          [
           0.8333333333333334,
           "rgb(59, 115, 143)"
          ],
          [
           1,
           "rgb(42, 86, 116)"
          ]
         ]
        },
        "height": 800,
        "legend": {
         "tracegroupgap": 0
        },
        "margin": {
         "t": 60
        },
        "template": {
         "data": {
          "bar": [
           {
            "error_x": {
             "color": "#2a3f5f"
            },
            "error_y": {
             "color": "#2a3f5f"
            },
            "marker": {
             "line": {
              "color": "#E5ECF6",
              "width": 0.5
             },
             "pattern": {
              "fillmode": "overlay",
              "size": 10,
              "solidity": 0.2
             }
            },
            "type": "bar"
           }
          ],
          "barpolar": [
           {
            "marker": {
             "line": {
              "color": "#E5ECF6",
              "width": 0.5
             },
             "pattern": {
              "fillmode": "overlay",
              "size": 10,
              "solidity": 0.2
             }
            },
            "type": "barpolar"
           }
          ],
          "carpet": [
           {
            "aaxis": {
             "endlinecolor": "#2a3f5f",
             "gridcolor": "white",
             "linecolor": "white",
             "minorgridcolor": "white",
             "startlinecolor": "#2a3f5f"
            },
            "baxis": {
             "endlinecolor": "#2a3f5f",
             "gridcolor": "white",
             "linecolor": "white",
             "minorgridcolor": "white",
             "startlinecolor": "#2a3f5f"
            },
            "type": "carpet"
           }
          ],
          "choropleth": [
           {
            "colorbar": {
             "outlinewidth": 0,
             "ticks": ""
            },
            "type": "choropleth"
           }
          ],
          "contour": [
           {
            "colorbar": {
             "outlinewidth": 0,
             "ticks": ""
            },
            "colorscale": [
             [
              0,
              "#0d0887"
             ],
             [
              0.1111111111111111,
              "#46039f"
             ],
             [
              0.2222222222222222,
              "#7201a8"
             ],
             [
              0.3333333333333333,
              "#9c179e"
             ],
             [
              0.4444444444444444,
              "#bd3786"
             ],
             [
              0.5555555555555556,
              "#d8576b"
             ],
             [
              0.6666666666666666,
              "#ed7953"
             ],
             [
              0.7777777777777778,
              "#fb9f3a"
             ],
             [
              0.8888888888888888,
              "#fdca26"
             ],
             [
              1,
              "#f0f921"
             ]
            ],
            "type": "contour"
           }
          ],
          "contourcarpet": [
           {
            "colorbar": {
             "outlinewidth": 0,
             "ticks": ""
            },
            "type": "contourcarpet"
           }
          ],
          "heatmap": [
           {
            "colorbar": {
             "outlinewidth": 0,
             "ticks": ""
            },
            "colorscale": [
             [
              0,
              "#0d0887"
             ],
             [
              0.1111111111111111,
              "#46039f"
             ],
             [
              0.2222222222222222,
              "#7201a8"
             ],
             [
              0.3333333333333333,
              "#9c179e"
             ],
             [
              0.4444444444444444,
              "#bd3786"
             ],
             [
              0.5555555555555556,
              "#d8576b"
             ],
             [
              0.6666666666666666,
              "#ed7953"
             ],
             [
              0.7777777777777778,
              "#fb9f3a"
             ],
             [
              0.8888888888888888,
              "#fdca26"
             ],
             [
              1,
              "#f0f921"
             ]
            ],
            "type": "heatmap"
           }
          ],
          "heatmapgl": [
           {
            "colorbar": {
             "outlinewidth": 0,
             "ticks": ""
            },
            "colorscale": [
             [
              0,
              "#0d0887"
             ],
             [
              0.1111111111111111,
              "#46039f"
             ],
             [
              0.2222222222222222,
              "#7201a8"
             ],
             [
              0.3333333333333333,
              "#9c179e"
             ],
             [
              0.4444444444444444,
              "#bd3786"
             ],
             [
              0.5555555555555556,
              "#d8576b"
             ],
             [
              0.6666666666666666,
              "#ed7953"
             ],
             [
              0.7777777777777778,
              "#fb9f3a"
             ],
             [
              0.8888888888888888,
              "#fdca26"
             ],
             [
              1,
              "#f0f921"
             ]
            ],
            "type": "heatmapgl"
           }
          ],
          "histogram": [
           {
            "marker": {
             "pattern": {
              "fillmode": "overlay",
              "size": 10,
              "solidity": 0.2
             }
            },
            "type": "histogram"
           }
          ],
          "histogram2d": [
           {
            "colorbar": {
             "outlinewidth": 0,
             "ticks": ""
            },
            "colorscale": [
             [
              0,
              "#0d0887"
             ],
             [
              0.1111111111111111,
              "#46039f"
             ],
             [
              0.2222222222222222,
              "#7201a8"
             ],
             [
              0.3333333333333333,
              "#9c179e"
             ],
             [
              0.4444444444444444,
              "#bd3786"
             ],
             [
              0.5555555555555556,
              "#d8576b"
             ],
             [
              0.6666666666666666,
              "#ed7953"
             ],
             [
              0.7777777777777778,
              "#fb9f3a"
             ],
             [
              0.8888888888888888,
              "#fdca26"
             ],
             [
              1,
              "#f0f921"
             ]
            ],
            "type": "histogram2d"
           }
          ],
          "histogram2dcontour": [
           {
            "colorbar": {
             "outlinewidth": 0,
             "ticks": ""
            },
            "colorscale": [
             [
              0,
              "#0d0887"
             ],
             [
              0.1111111111111111,
              "#46039f"
             ],
             [
              0.2222222222222222,
              "#7201a8"
             ],
             [
              0.3333333333333333,
              "#9c179e"
             ],
             [
              0.4444444444444444,
              "#bd3786"
             ],
             [
              0.5555555555555556,
              "#d8576b"
             ],
             [
              0.6666666666666666,
              "#ed7953"
             ],
             [
              0.7777777777777778,
              "#fb9f3a"
             ],
             [
              0.8888888888888888,
              "#fdca26"
             ],
             [
              1,
              "#f0f921"
             ]
            ],
            "type": "histogram2dcontour"
           }
          ],
          "mesh3d": [
           {
            "colorbar": {
             "outlinewidth": 0,
             "ticks": ""
            },
            "type": "mesh3d"
           }
          ],
          "parcoords": [
           {
            "line": {
             "colorbar": {
              "outlinewidth": 0,
              "ticks": ""
             }
            },
            "type": "parcoords"
           }
          ],
          "pie": [
           {
            "automargin": true,
            "type": "pie"
           }
          ],
          "scatter": [
           {
            "marker": {
             "colorbar": {
              "outlinewidth": 0,
              "ticks": ""
             }
            },
            "type": "scatter"
           }
          ],
          "scatter3d": [
           {
            "line": {
             "colorbar": {
              "outlinewidth": 0,
              "ticks": ""
             }
            },
            "marker": {
             "colorbar": {
              "outlinewidth": 0,
              "ticks": ""
             }
            },
            "type": "scatter3d"
           }
          ],
          "scattercarpet": [
           {
            "marker": {
             "colorbar": {
              "outlinewidth": 0,
              "ticks": ""
             }
            },
            "type": "scattercarpet"
           }
          ],
          "scattergeo": [
           {
            "marker": {
             "colorbar": {
              "outlinewidth": 0,
              "ticks": ""
             }
            },
            "type": "scattergeo"
           }
          ],
          "scattergl": [
           {
            "marker": {
             "colorbar": {
              "outlinewidth": 0,
              "ticks": ""
             }
            },
            "type": "scattergl"
           }
          ],
          "scattermapbox": [
           {
            "marker": {
             "colorbar": {
              "outlinewidth": 0,
              "ticks": ""
             }
            },
            "type": "scattermapbox"
           }
          ],
          "scatterpolar": [
           {
            "marker": {
             "colorbar": {
              "outlinewidth": 0,
              "ticks": ""
             }
            },
            "type": "scatterpolar"
           }
          ],
          "scatterpolargl": [
           {
            "marker": {
             "colorbar": {
              "outlinewidth": 0,
              "ticks": ""
             }
            },
            "type": "scatterpolargl"
           }
          ],
          "scatterternary": [
           {
            "marker": {
             "colorbar": {
              "outlinewidth": 0,
              "ticks": ""
             }
            },
            "type": "scatterternary"
           }
          ],
          "surface": [
           {
            "colorbar": {
             "outlinewidth": 0,
             "ticks": ""
            },
            "colorscale": [
             [
              0,
              "#0d0887"
             ],
             [
              0.1111111111111111,
              "#46039f"
             ],
             [
              0.2222222222222222,
              "#7201a8"
             ],
             [
              0.3333333333333333,
              "#9c179e"
             ],
             [
              0.4444444444444444,
              "#bd3786"
             ],
             [
              0.5555555555555556,
              "#d8576b"
             ],
             [
              0.6666666666666666,
              "#ed7953"
             ],
             [
              0.7777777777777778,
              "#fb9f3a"
             ],
             [
              0.8888888888888888,
              "#fdca26"
             ],
             [
              1,
              "#f0f921"
             ]
            ],
            "type": "surface"
           }
          ],
          "table": [
           {
            "cells": {
             "fill": {
              "color": "#EBF0F8"
             },
             "line": {
              "color": "white"
             }
            },
            "header": {
             "fill": {
              "color": "#C8D4E3"
             },
             "line": {
              "color": "white"
             }
            },
            "type": "table"
           }
          ]
         },
         "layout": {
          "annotationdefaults": {
           "arrowcolor": "#2a3f5f",
           "arrowhead": 0,
           "arrowwidth": 1
          },
          "autotypenumbers": "strict",
          "coloraxis": {
           "colorbar": {
            "outlinewidth": 0,
            "ticks": ""
           }
          },
          "colorscale": {
           "diverging": [
            [
             0,
             "#8e0152"
            ],
            [
             0.1,
             "#c51b7d"
            ],
            [
             0.2,
             "#de77ae"
            ],
            [
             0.3,
             "#f1b6da"
            ],
            [
             0.4,
             "#fde0ef"
            ],
            [
             0.5,
             "#f7f7f7"
            ],
            [
             0.6,
             "#e6f5d0"
            ],
            [
             0.7,
             "#b8e186"
            ],
            [
             0.8,
             "#7fbc41"
            ],
            [
             0.9,
             "#4d9221"
            ],
            [
             1,
             "#276419"
            ]
           ],
           "sequential": [
            [
             0,
             "#0d0887"
            ],
            [
             0.1111111111111111,
             "#46039f"
            ],
            [
             0.2222222222222222,
             "#7201a8"
            ],
            [
             0.3333333333333333,
             "#9c179e"
            ],
            [
             0.4444444444444444,
             "#bd3786"
            ],
            [
             0.5555555555555556,
             "#d8576b"
            ],
            [
             0.6666666666666666,
             "#ed7953"
            ],
            [
             0.7777777777777778,
             "#fb9f3a"
            ],
            [
             0.8888888888888888,
             "#fdca26"
            ],
            [
             1,
             "#f0f921"
            ]
           ],
           "sequentialminus": [
            [
             0,
             "#0d0887"
            ],
            [
             0.1111111111111111,
             "#46039f"
            ],
            [
             0.2222222222222222,
             "#7201a8"
            ],
            [
             0.3333333333333333,
             "#9c179e"
            ],
            [
             0.4444444444444444,
             "#bd3786"
            ],
            [
             0.5555555555555556,
             "#d8576b"
            ],
            [
             0.6666666666666666,
             "#ed7953"
            ],
            [
             0.7777777777777778,
             "#fb9f3a"
            ],
            [
             0.8888888888888888,
             "#fdca26"
            ],
            [
             1,
             "#f0f921"
            ]
           ]
          },
          "colorway": [
           "#636efa",
           "#EF553B",
           "#00cc96",
           "#ab63fa",
           "#FFA15A",
           "#19d3f3",
           "#FF6692",
           "#B6E880",
           "#FF97FF",
           "#FECB52"
          ],
          "font": {
           "color": "#2a3f5f"
          },
          "geo": {
           "bgcolor": "white",
           "lakecolor": "white",
           "landcolor": "#E5ECF6",
           "showlakes": true,
           "showland": true,
           "subunitcolor": "white"
          },
          "hoverlabel": {
           "align": "left"
          },
          "hovermode": "closest",
          "mapbox": {
           "style": "light"
          },
          "paper_bgcolor": "white",
          "plot_bgcolor": "#E5ECF6",
          "polar": {
           "angularaxis": {
            "gridcolor": "white",
            "linecolor": "white",
            "ticks": ""
           },
           "bgcolor": "#E5ECF6",
           "radialaxis": {
            "gridcolor": "white",
            "linecolor": "white",
            "ticks": ""
           }
          },
          "scene": {
           "xaxis": {
            "backgroundcolor": "#E5ECF6",
            "gridcolor": "white",
            "gridwidth": 2,
            "linecolor": "white",
            "showbackground": true,
            "ticks": "",
            "zerolinecolor": "white"
           },
           "yaxis": {
            "backgroundcolor": "#E5ECF6",
            "gridcolor": "white",
            "gridwidth": 2,
            "linecolor": "white",
            "showbackground": true,
            "ticks": "",
            "zerolinecolor": "white"
           },
           "zaxis": {
            "backgroundcolor": "#E5ECF6",
            "gridcolor": "white",
            "gridwidth": 2,
            "linecolor": "white",
            "showbackground": true,
            "ticks": "",
            "zerolinecolor": "white"
           }
          },
          "shapedefaults": {
           "line": {
            "color": "#2a3f5f"
           }
          },
          "ternary": {
           "aaxis": {
            "gridcolor": "white",
            "linecolor": "white",
            "ticks": ""
           },
           "baxis": {
            "gridcolor": "white",
            "linecolor": "white",
            "ticks": ""
           },
           "bgcolor": "#E5ECF6",
           "caxis": {
            "gridcolor": "white",
            "linecolor": "white",
            "ticks": ""
           }
          },
          "title": {
           "x": 0.05
          },
          "xaxis": {
           "automargin": true,
           "gridcolor": "white",
           "linecolor": "white",
           "ticks": "",
           "title": {
            "standoff": 15
           },
           "zerolinecolor": "white",
           "zerolinewidth": 2
          },
          "yaxis": {
           "automargin": true,
           "gridcolor": "white",
           "linecolor": "white",
           "ticks": "",
           "title": {
            "standoff": 15
           },
           "zerolinecolor": "white",
           "zerolinewidth": 2
          }
         }
        },
        "width": 1000
       }
      }
     },
     "metadata": {}
    }
   ],
   "metadata": {}
  },
  {
   "cell_type": "markdown",
   "source": [
    "## 6) What is the most profitable product"
   ],
   "metadata": {}
  },
  {
   "cell_type": "code",
   "execution_count": 40,
   "source": [
    "df_modified.groupby('Product')['Total_Price'].sum().sort_values().plot(kind='barh',fontsize = 14, figsize=(8,8))\r\n",
    "plt.ylabel('Product', fontsize=14)\r\n",
    "plt.xlabel('Total Sales by $Millions', fontsize=14)\r\n",
    "plt.title('Total Sales per Product', fontsize=18)\r\n",
    "print(\"Despite the Batteries are the most product to be sold, \\nThe Macbook Pro Laptop is the most profitable product and the Batteries is the least profitable Products.\")"
   ],
   "outputs": [
    {
     "output_type": "stream",
     "name": "stdout",
     "text": [
      "Despite the Batteries are the most product to be sold, \n",
      "The Macbook Pro Laptop is the most profitable product and the Batteries is the least profitable Products.\n"
     ]
    },
    {
     "output_type": "display_data",
     "data": {
      "image/png": "[encoded data removed]",
      "text/plain": [
       "<Figure size 576x576 with 1 Axes>"
      ]
     },
     "metadata": {
      "needs_background": "light"
     }
    }
   ],
   "metadata": {}
  },
  {
   "cell_type": "code",
   "execution_count": 43,
   "source": [
    "# Saving the final dataset to excel file\r\n",
    "df_modified.to_excel('FinalSales.xlsx', index=False)"
   ],
   "outputs": [],
   "metadata": {}
  }
 ],
 "metadata": {
  "orig_nbformat": 4,
  "language_info": {
   "name": "python",
   "version": "3.9.0",
   "mimetype": "text/x-python",
   "codemirror_mode": {
    "name": "ipython",
    "version": 3
   },
   "pygments_lexer": "ipython3",
   "nbconvert_exporter": "python",
   "file_extension": ".py"
  },
  "kernelspec": {
   "name": "python3",
   "display_name": "Python 3.9.0 64-bit ('py39': conda)"
  },
  "interpreter": {
   "hash": "0a0f8ab4c57a06d46fd6f55d482a6632deba73cd474c5da4de012a643e455179"
  }
 },
 "nbformat": 4,
 "nbformat_minor": 2
}